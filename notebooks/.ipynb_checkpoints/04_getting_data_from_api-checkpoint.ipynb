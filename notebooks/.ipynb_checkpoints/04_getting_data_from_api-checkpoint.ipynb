{
 "cells": [
  {
   "cell_type": "code",
   "execution_count": 1,
   "metadata": {
    "collapsed": false
   },
   "outputs": [
    {
     "data": {
      "text/plain": [
       "'\\nCLASS: Getting Data from APIs\\n\\nWhat is an API?\\n- Application Programming Interface\\n- Structured way to expose specific functionality and data access to users\\n- Web APIs usually follow the \"REST\" standard\\n\\nHow to interact with a REST API:\\n- Make a \"request\" to a specific URL (an \"endpoint\"), and get the data back in a \"response\"\\n- Most relevant request method for us is GET (other methods: POST, PUT, DELETE)\\n- Response is often JSON format\\n- Web console is sometimes available (allows you to explore an API)\\n'"
      ]
     },
     "execution_count": 1,
     "metadata": {},
     "output_type": "execute_result"
    }
   ],
   "source": [
    "'''\n",
    "CLASS: Getting Data from APIs\n",
    "\n",
    "What is an API?\n",
    "- Application Programming Interface\n",
    "- Structured way to expose specific functionality and data access to users\n",
    "- Web APIs usually follow the \"REST\" standard\n",
    "\n",
    "How to interact with an API:\n",
    "- Make a \"request\" to a specific URL (an \"endpoint\"), and get the data back in a \"response\"\n",
    "- Most relevant request method for us is GET (other methods: POST, PUT, DELETE)\n",
    "- Response is often JSON format\n",
    "- Web console is sometimes available (allows you to explore an API)\n",
    "'''"
   ]
  },
  {
   "cell_type": "code",
   "execution_count": 5,
   "metadata": {
    "collapsed": false
   },
   "outputs": [],
   "source": [
    "import pandas as pd\n",
    "import requests"
   ]
  },
  {
   "cell_type": "code",
   "execution_count": 6,
   "metadata": {
    "collapsed": false
   },
   "outputs": [
    {
     "data": {
      "text/html": [
       "<div style=\"max-height:1000px;max-width:1500px;overflow:auto;\">\n",
       "<table border=\"1\" class=\"dataframe\">\n",
       "  <thead>\n",
       "    <tr style=\"text-align: right;\">\n",
       "      <th></th>\n",
       "      <th>star_rating</th>\n",
       "      <th>title</th>\n",
       "      <th>content_rating</th>\n",
       "      <th>genre</th>\n",
       "      <th>duration</th>\n",
       "      <th>actors_list</th>\n",
       "    </tr>\n",
       "  </thead>\n",
       "  <tbody>\n",
       "    <tr>\n",
       "      <th>0</th>\n",
       "      <td> 9.3</td>\n",
       "      <td> The Shawshank Redemption</td>\n",
       "      <td>     R</td>\n",
       "      <td>  Crime</td>\n",
       "      <td> 142</td>\n",
       "      <td> [u'Tim Robbins', u'Morgan Freeman', u'Bob Gunt...</td>\n",
       "    </tr>\n",
       "    <tr>\n",
       "      <th>1</th>\n",
       "      <td> 9.2</td>\n",
       "      <td>            The Godfather</td>\n",
       "      <td>     R</td>\n",
       "      <td>  Crime</td>\n",
       "      <td> 175</td>\n",
       "      <td>   [u'Marlon Brando', u'Al Pacino', u'James Caan']</td>\n",
       "    </tr>\n",
       "    <tr>\n",
       "      <th>2</th>\n",
       "      <td> 9.1</td>\n",
       "      <td>   The Godfather: Part II</td>\n",
       "      <td>     R</td>\n",
       "      <td>  Crime</td>\n",
       "      <td> 200</td>\n",
       "      <td> [u'Al Pacino', u'Robert De Niro', u'Robert Duv...</td>\n",
       "    </tr>\n",
       "    <tr>\n",
       "      <th>3</th>\n",
       "      <td> 9.0</td>\n",
       "      <td>          The Dark Knight</td>\n",
       "      <td> PG-13</td>\n",
       "      <td> Action</td>\n",
       "      <td> 152</td>\n",
       "      <td> [u'Christian Bale', u'Heath Ledger', u'Aaron E...</td>\n",
       "    </tr>\n",
       "    <tr>\n",
       "      <th>4</th>\n",
       "      <td> 8.9</td>\n",
       "      <td>             Pulp Fiction</td>\n",
       "      <td>     R</td>\n",
       "      <td>  Crime</td>\n",
       "      <td> 154</td>\n",
       "      <td> [u'John Travolta', u'Uma Thurman', u'Samuel L....</td>\n",
       "    </tr>\n",
       "  </tbody>\n",
       "</table>\n",
       "</div>"
      ],
      "text/plain": [
       "   star_rating                     title content_rating   genre  duration  \\\n",
       "0          9.3  The Shawshank Redemption              R   Crime       142   \n",
       "1          9.2             The Godfather              R   Crime       175   \n",
       "2          9.1    The Godfather: Part II              R   Crime       200   \n",
       "3          9.0           The Dark Knight          PG-13  Action       152   \n",
       "4          8.9              Pulp Fiction              R   Crime       154   \n",
       "\n",
       "                                         actors_list  \n",
       "0  [u'Tim Robbins', u'Morgan Freeman', u'Bob Gunt...  \n",
       "1    [u'Marlon Brando', u'Al Pacino', u'James Caan']  \n",
       "2  [u'Al Pacino', u'Robert De Niro', u'Robert Duv...  \n",
       "3  [u'Christian Bale', u'Heath Ledger', u'Aaron E...  \n",
       "4  [u'John Travolta', u'Uma Thurman', u'Samuel L....  "
      ]
     },
     "execution_count": 6,
     "metadata": {},
     "output_type": "execute_result"
    }
   ],
   "source": [
    "# read IMDb data into a DataFrame: we want a year column!\n",
    "movies = pd.read_csv('../data/imdb_1000.csv')\n",
    "movies.head()"
   ]
  },
  {
   "cell_type": "code",
   "execution_count": 7,
   "metadata": {
    "collapsed": false
   },
   "outputs": [
    {
     "name": "stdout",
     "output_type": "stream",
     "text": [
      "(979, 6)\n"
     ]
    },
    {
     "data": {
      "text/html": [
       "<div style=\"max-height:1000px;max-width:1500px;overflow:auto;\">\n",
       "<table border=\"1\" class=\"dataframe\">\n",
       "  <thead>\n",
       "    <tr style=\"text-align: right;\">\n",
       "      <th></th>\n",
       "      <th>star_rating</th>\n",
       "      <th>duration</th>\n",
       "    </tr>\n",
       "  </thead>\n",
       "  <tbody>\n",
       "    <tr>\n",
       "      <th>count</th>\n",
       "      <td> 979.000000</td>\n",
       "      <td> 979.000000</td>\n",
       "    </tr>\n",
       "    <tr>\n",
       "      <th>mean</th>\n",
       "      <td>   7.889785</td>\n",
       "      <td> 120.979571</td>\n",
       "    </tr>\n",
       "    <tr>\n",
       "      <th>std</th>\n",
       "      <td>   0.336069</td>\n",
       "      <td>  26.218010</td>\n",
       "    </tr>\n",
       "    <tr>\n",
       "      <th>min</th>\n",
       "      <td>   7.400000</td>\n",
       "      <td>  64.000000</td>\n",
       "    </tr>\n",
       "    <tr>\n",
       "      <th>25%</th>\n",
       "      <td>   7.600000</td>\n",
       "      <td> 102.000000</td>\n",
       "    </tr>\n",
       "    <tr>\n",
       "      <th>50%</th>\n",
       "      <td>   7.800000</td>\n",
       "      <td> 117.000000</td>\n",
       "    </tr>\n",
       "    <tr>\n",
       "      <th>75%</th>\n",
       "      <td>   8.100000</td>\n",
       "      <td> 134.000000</td>\n",
       "    </tr>\n",
       "    <tr>\n",
       "      <th>max</th>\n",
       "      <td>   9.300000</td>\n",
       "      <td> 242.000000</td>\n",
       "    </tr>\n",
       "  </tbody>\n",
       "</table>\n",
       "</div>"
      ],
      "text/plain": [
       "       star_rating    duration\n",
       "count   979.000000  979.000000\n",
       "mean      7.889785  120.979571\n",
       "std       0.336069   26.218010\n",
       "min       7.400000   64.000000\n",
       "25%       7.600000  102.000000\n",
       "50%       7.800000  117.000000\n",
       "75%       8.100000  134.000000\n",
       "max       9.300000  242.000000"
      ]
     },
     "execution_count": 7,
     "metadata": {},
     "output_type": "execute_result"
    }
   ],
   "source": [
    "print movies.shape\n",
    "movies.describe()"
   ]
  },
  {
   "cell_type": "code",
   "execution_count": 2,
   "metadata": {
    "collapsed": false
   },
   "outputs": [],
   "source": [
    "###### exercise #######\n",
    "\n",
    "# Is the title column unique? If not, what are the non unique names?\n",
    "\n",
    "\n",
    "colum"
   ]
  },
  {
   "cell_type": "code",
   "execution_count": 9,
   "metadata": {
    "collapsed": true
   },
   "outputs": [],
   "source": [
    "# use requests library to interact with a URL http://www.omdbapi.com\n",
    "r = requests.get('http://www.omdbapi.com?t=the shawshank redemption&r=json&type=movie')"
   ]
  },
  {
   "cell_type": "code",
   "execution_count": 10,
   "metadata": {
    "collapsed": false
   },
   "outputs": [
    {
     "data": {
      "text/plain": [
       "200"
      ]
     },
     "execution_count": 10,
     "metadata": {},
     "output_type": "execute_result"
    }
   ],
   "source": [
    "# check the status: 200 means success, 4xx or 5xx means error\n",
    "r.status_code"
   ]
  },
  {
   "cell_type": "code",
   "execution_count": 11,
   "metadata": {
    "collapsed": false
   },
   "outputs": [
    {
     "data": {
      "text/plain": [
       "u'{\"Title\":\"The Shawshank Redemption\",\"Year\":\"1994\",\"Rated\":\"R\",\"Released\":\"14 Oct 1994\",\"Runtime\":\"142 min\",\"Genre\":\"Crime, Drama\",\"Director\":\"Frank Darabont\",\"Writer\":\"Stephen King (short story \\\\\"Rita Hayworth and Shawshank Redemption\\\\\"), Frank Darabont (screenplay)\",\"Actors\":\"Tim Robbins, Morgan Freeman, Bob Gunton, William Sadler\",\"Plot\":\"Two imprisoned men bond over a number of years, finding solace and eventual redemption through acts of common decency.\",\"Language\":\"English\",\"Country\":\"USA\",\"Awards\":\"Nominated for 7 Oscars. Another 14 wins & 21 nominations.\",\"Poster\":\"http://ia.media-imdb.com/images/M/MV5BODU4MjU4NjIwNl5BMl5BanBnXkFtZTgwMDU2MjEyMDE@._V1_SX300.jpg\",\"Metascore\":\"80\",\"imdbRating\":\"9.3\",\"imdbVotes\":\"1,626,900\",\"imdbID\":\"tt0111161\",\"Type\":\"movie\",\"Response\":\"True\"}'"
      ]
     },
     "execution_count": 11,
     "metadata": {},
     "output_type": "execute_result"
    }
   ],
   "source": [
    "# view the raw response text\n",
    "r.text"
   ]
  },
  {
   "cell_type": "code",
   "execution_count": 12,
   "metadata": {
    "collapsed": false
   },
   "outputs": [
    {
     "data": {
      "text/plain": [
       "{u'Actors': u'Tim Robbins, Morgan Freeman, Bob Gunton, William Sadler',\n",
       " u'Awards': u'Nominated for 7 Oscars. Another 14 wins & 21 nominations.',\n",
       " u'Country': u'USA',\n",
       " u'Director': u'Frank Darabont',\n",
       " u'Genre': u'Crime, Drama',\n",
       " u'Language': u'English',\n",
       " u'Metascore': u'80',\n",
       " u'Plot': u'Two imprisoned men bond over a number of years, finding solace and eventual redemption through acts of common decency.',\n",
       " u'Poster': u'http://ia.media-imdb.com/images/M/MV5BODU4MjU4NjIwNl5BMl5BanBnXkFtZTgwMDU2MjEyMDE@._V1_SX300.jpg',\n",
       " u'Rated': u'R',\n",
       " u'Released': u'14 Oct 1994',\n",
       " u'Response': u'True',\n",
       " u'Runtime': u'142 min',\n",
       " u'Title': u'The Shawshank Redemption',\n",
       " u'Type': u'movie',\n",
       " u'Writer': u'Stephen King (short story \"Rita Hayworth and Shawshank Redemption\"), Frank Darabont (screenplay)',\n",
       " u'Year': u'1994',\n",
       " u'imdbID': u'tt0111161',\n",
       " u'imdbRating': u'9.3',\n",
       " u'imdbVotes': u'1,626,900'}"
      ]
     },
     "execution_count": 12,
     "metadata": {},
     "output_type": "execute_result"
    }
   ],
   "source": [
    "# decode the JSON response body into a dictionary\n",
    "r.json()"
   ]
  },
  {
   "cell_type": "code",
   "execution_count": 13,
   "metadata": {
    "collapsed": false
   },
   "outputs": [
    {
     "data": {
      "text/plain": [
       "u'1994'"
      ]
     },
     "execution_count": 13,
     "metadata": {},
     "output_type": "execute_result"
    }
   ],
   "source": [
    "# extracting the year from the dictionary\n",
    "r.json()['Year']"
   ]
  },
  {
   "cell_type": "code",
   "execution_count": 14,
   "metadata": {
    "collapsed": false
   },
   "outputs": [
    {
     "data": {
      "text/plain": [
       "{u'Error': u'Movie not found!', u'Response': u'False'}"
      ]
     },
     "execution_count": 14,
     "metadata": {},
     "output_type": "execute_result"
    }
   ],
   "source": [
    "# what happens if the movie name is not recognized?\n",
    "r = requests.get('http://www.omdbapi.com/?t=thebestmovieevermade&r=json&type=movie')\n",
    "r.status_code\n",
    "r.json()"
   ]
  },
  {
   "cell_type": "code",
   "execution_count": 25,
   "metadata": {
    "collapsed": false
   },
   "outputs": [],
   "source": [
    "##### Exercise #####\n",
    "\n",
    "# define a function to return the year\n",
    "def get_movie_year(title):\n",
    "    # use requests to grab the json of the data from omdb\n",
    "#     if the response was successful:\n",
    "#         return the year\n",
    "#     else:\n",
    "#         return None"
   ]
  },
  {
   "cell_type": "code",
   "execution_count": 26,
   "metadata": {
    "collapsed": false
   },
   "outputs": [
    {
     "name": "stdout",
     "output_type": "stream",
     "text": [
      "1994\n",
      "None\n"
     ]
    }
   ],
   "source": [
    "# test the function\n",
    "print get_movie_year('The Shawshank Redemption')\n",
    "print get_movie_year('blahblahblah')"
   ]
  },
  {
   "cell_type": "code",
   "execution_count": 27,
   "metadata": {
    "collapsed": true
   },
   "outputs": [],
   "source": [
    "# create a smaller DataFrame for testing\n",
    "# the copy method makes a carbon copy of the dataframe\n",
    "top_movies = movies.head().copy()"
   ]
  },
  {
   "cell_type": "code",
   "execution_count": 28,
   "metadata": {
    "collapsed": false
   },
   "outputs": [],
   "source": [
    "# write a for loop to build a list of years\n",
    "from time import sleep # timey wimey stuff\n",
    "years = []\n",
    "for title in top_movies.title:\n",
    "    years.append(get_movie_year(title))\n",
    "    sleep(1)\n",
    "    \n",
    "# the sleep is used to not over hit the API\n",
    "# this is called \"rate limiting\"\n",
    "# Most APIs don't allow you to hit it too much"
   ]
  },
  {
   "cell_type": "code",
   "execution_count": 29,
   "metadata": {
    "collapsed": false
   },
   "outputs": [
    {
     "ename": "AssertionError",
     "evalue": "",
     "output_type": "error",
     "traceback": [
      "\u001b[0;31m---------------------------------------------------------------------------\u001b[0m",
      "\u001b[0;31mAssertionError\u001b[0m                            Traceback (most recent call last)",
      "\u001b[0;32m<ipython-input-29-eda2d9072f25>\u001b[0m in \u001b[0;36m<module>\u001b[0;34m()\u001b[0m\n\u001b[1;32m      1\u001b[0m \u001b[0;31m# assert will throw an error if the value inside is NOT True\u001b[0m\u001b[0;34m\u001b[0m\u001b[0;34m\u001b[0m\u001b[0m\n\u001b[1;32m      2\u001b[0m \u001b[0;34m\u001b[0m\u001b[0m\n\u001b[0;32m----> 3\u001b[0;31m \u001b[0;32massert\u001b[0m\u001b[0;34m(\u001b[0m\u001b[0;36m3\u001b[0m\u001b[0;34m==\u001b[0m\u001b[0;36m4\u001b[0m\u001b[0;34m)\u001b[0m\u001b[0;34m\u001b[0m\u001b[0m\n\u001b[0m",
      "\u001b[0;31mAssertionError\u001b[0m: "
     ]
    }
   ],
   "source": [
    "# assert will throw an error if the value inside is NOT True\n",
    "\n",
    "assert(3==4)"
   ]
  },
  {
   "cell_type": "code",
   "execution_count": null,
   "metadata": {
    "collapsed": false
   },
   "outputs": [],
   "source": [
    "# check that the DataFrame and the list of years are the same length\n",
    "assert(len(top_movies) == len(years))"
   ]
  },
  {
   "cell_type": "code",
   "execution_count": null,
   "metadata": {
    "collapsed": false
   },
   "outputs": [],
   "source": [
    "# save that list as a new column\n",
    "top_movies['year'] = years"
   ]
  },
  {
   "cell_type": "code",
   "execution_count": null,
   "metadata": {
    "collapsed": false
   },
   "outputs": [],
   "source": [
    "'''\n",
    "Bonus content: Updating the DataFrame as part of a loop\n",
    "'''\n",
    "\n",
    "# enumerate allows you to access the item location while iterating\n",
    "letters = ['a', 'b', 'c']\n",
    "for index, letter in enumerate(letters):\n",
    "    print index, letter"
   ]
  },
  {
   "cell_type": "code",
   "execution_count": null,
   "metadata": {
    "collapsed": false
   },
   "outputs": [],
   "source": [
    "# iterrows method for DataFrames is similar\n",
    "for index, row in top_movies.iterrows():\n",
    "    print index, row.title"
   ]
  },
  {
   "cell_type": "code",
   "execution_count": null,
   "metadata": {
    "collapsed": false
   },
   "outputs": [],
   "source": [
    "# create a new column and set a default value\n",
    "movies['yearsr'] = None\n",
    "movies.head()"
   ]
  },
  {
   "cell_type": "code",
   "execution_count": null,
   "metadata": {
    "collapsed": false
   },
   "outputs": [],
   "source": [
    "# loc method allows you to access a DataFrame element by 'label'\n",
    "movies.loc[0, 'year'] = 1994\n",
    "movies.head()"
   ]
  },
  {
   "cell_type": "code",
   "execution_count": null,
   "metadata": {
    "collapsed": false
   },
   "outputs": [],
   "source": [
    "# write a for loop to update the year for the first three movies\n",
    "for index, row in movies.iterrows():\n",
    "    if index < 3:\n",
    "        movies.loc[index, 'year'] = get_movie_year(row.title)\n",
    "        sleep(1)\n",
    "    else:\n",
    "        break"
   ]
  },
  {
   "cell_type": "code",
   "execution_count": 30,
   "metadata": {
    "collapsed": false
   },
   "outputs": [
    {
     "data": {
      "text/html": [
       "<div style=\"max-height:1000px;max-width:1500px;overflow:auto;\">\n",
       "<table border=\"1\" class=\"dataframe\">\n",
       "  <thead>\n",
       "    <tr style=\"text-align: right;\">\n",
       "      <th></th>\n",
       "      <th>star_rating</th>\n",
       "      <th>title</th>\n",
       "      <th>content_rating</th>\n",
       "      <th>genre</th>\n",
       "      <th>duration</th>\n",
       "      <th>actors_list</th>\n",
       "    </tr>\n",
       "  </thead>\n",
       "  <tbody>\n",
       "    <tr>\n",
       "      <th>0</th>\n",
       "      <td> 9.3</td>\n",
       "      <td> The Shawshank Redemption</td>\n",
       "      <td>     R</td>\n",
       "      <td>  Crime</td>\n",
       "      <td> 142</td>\n",
       "      <td> [u'Tim Robbins', u'Morgan Freeman', u'Bob Gunt...</td>\n",
       "    </tr>\n",
       "    <tr>\n",
       "      <th>1</th>\n",
       "      <td> 9.2</td>\n",
       "      <td>            The Godfather</td>\n",
       "      <td>     R</td>\n",
       "      <td>  Crime</td>\n",
       "      <td> 175</td>\n",
       "      <td>   [u'Marlon Brando', u'Al Pacino', u'James Caan']</td>\n",
       "    </tr>\n",
       "    <tr>\n",
       "      <th>2</th>\n",
       "      <td> 9.1</td>\n",
       "      <td>   The Godfather: Part II</td>\n",
       "      <td>     R</td>\n",
       "      <td>  Crime</td>\n",
       "      <td> 200</td>\n",
       "      <td> [u'Al Pacino', u'Robert De Niro', u'Robert Duv...</td>\n",
       "    </tr>\n",
       "    <tr>\n",
       "      <th>3</th>\n",
       "      <td> 9.0</td>\n",
       "      <td>          The Dark Knight</td>\n",
       "      <td> PG-13</td>\n",
       "      <td> Action</td>\n",
       "      <td> 152</td>\n",
       "      <td> [u'Christian Bale', u'Heath Ledger', u'Aaron E...</td>\n",
       "    </tr>\n",
       "    <tr>\n",
       "      <th>4</th>\n",
       "      <td> 8.9</td>\n",
       "      <td>             Pulp Fiction</td>\n",
       "      <td>     R</td>\n",
       "      <td>  Crime</td>\n",
       "      <td> 154</td>\n",
       "      <td> [u'John Travolta', u'Uma Thurman', u'Samuel L....</td>\n",
       "    </tr>\n",
       "  </tbody>\n",
       "</table>\n",
       "</div>"
      ],
      "text/plain": [
       "   star_rating                     title content_rating   genre  duration  \\\n",
       "0          9.3  The Shawshank Redemption              R   Crime       142   \n",
       "1          9.2             The Godfather              R   Crime       175   \n",
       "2          9.1    The Godfather: Part II              R   Crime       200   \n",
       "3          9.0           The Dark Knight          PG-13  Action       152   \n",
       "4          8.9              Pulp Fiction              R   Crime       154   \n",
       "\n",
       "                                         actors_list  \n",
       "0  [u'Tim Robbins', u'Morgan Freeman', u'Bob Gunt...  \n",
       "1    [u'Marlon Brando', u'Al Pacino', u'James Caan']  \n",
       "2  [u'Al Pacino', u'Robert De Niro', u'Robert Duv...  \n",
       "3  [u'Christian Bale', u'Heath Ledger', u'Aaron E...  \n",
       "4  [u'John Travolta', u'Uma Thurman', u'Samuel L....  "
      ]
     },
     "execution_count": 30,
     "metadata": {},
     "output_type": "execute_result"
    }
   ],
   "source": [
    "movies.head()"
   ]
  },
  {
   "cell_type": "code",
   "execution_count": null,
   "metadata": {
    "collapsed": false
   },
   "outputs": [],
   "source": []
  },
  {
   "cell_type": "code",
   "execution_count": null,
   "metadata": {
    "collapsed": true
   },
   "outputs": [],
   "source": []
  },
  {
   "cell_type": "code",
   "execution_count": 31,
   "metadata": {
    "collapsed": true
   },
   "outputs": [],
   "source": [
    "# this is my own personal twitter api information\n",
    "# if you could be so kind as to sign up yourself on both twitter and mashape that'd be great :)\n",
    "# It's FREEEEEEE\n",
    "api_key = 'g5uPIpw80nULQI1gfklv2zrh4'\n",
    "api_secret = 'cOWvNWxYvPmEZ0ArZVeeVVvJu41QYHdUS2GpqIKtSQ1isd5PJy'\n",
    "access_token = '49722956-TWl8J0aAS6KTdcbz3ppZ7NfqZEmrwmbsb9cYPNELG'\n",
    "access_secret = '3eqrVssF3ppv23qyflyAto8wLEiYRA8sXEPSghuOJWTub'\n",
    "\n",
    "# Masahpe Key\n",
    "mashape_key = '0CLvblsJOxmshWkaep4szo9CILOMp1PM3hhjsnDi4k8g8ME14o'"
   ]
  },
  {
   "cell_type": "code",
   "execution_count": 32,
   "metadata": {
    "collapsed": false
   },
   "outputs": [
    {
     "name": "stdout",
     "output_type": "stream",
     "text": [
      "{u'probability': {u'neg': 0.2906053804130494, u'neutral': 0.15976275669851123, u'pos': 0.7093946195869506}, u'label': u'pos'}\n"
     ]
    }
   ],
   "source": [
    "# more complicated request\n",
    "\n",
    "# HEADERS tell the API (or website) the type of system attempting the request\n",
    "# DATA tells the API (or website) any pertinent info needed to make the request\n",
    "# it is up to whoever wrote the API how access keys are passed in\n",
    "\n",
    "url = \"https://japerk-text-processing.p.mashape.com/sentiment/\"\n",
    "headers ={\n",
    "        \"X-Mashape-Key\": mashape_key,\n",
    "        \"Content-Type\": \"application/x-www-form-urlencoded\"\n",
    "        }\n",
    "data={\n",
    "        \"language\": \"english\",\n",
    "        \"text\": \"I love it!\"\n",
    "        }\n",
    "\n",
    "print requests.post(url, headers = headers, data = data).json()"
   ]
  },
  {
   "cell_type": "code",
   "execution_count": 33,
   "metadata": {
    "collapsed": false
   },
   "outputs": [
    {
     "data": {
      "text/plain": [
       "'\\nExample of API WITH WRAPPER\\ntweepy is the python wrapper for twitter data\\n'"
      ]
     },
     "execution_count": 33,
     "metadata": {},
     "output_type": "execute_result"
    }
   ],
   "source": [
    "'''\n",
    "Example of API WITH WRAPPER\n",
    "tweepy is the python wrapper for twitter data\n",
    "'''"
   ]
  },
  {
   "cell_type": "code",
   "execution_count": 34,
   "metadata": {
    "collapsed": true
   },
   "outputs": [],
   "source": [
    "import tweepy       # python wrapper for twitter api\n",
    "import json\n",
    "import time"
   ]
  },
  {
   "cell_type": "code",
   "execution_count": 35,
   "metadata": {
    "collapsed": false
   },
   "outputs": [],
   "source": [
    "tag = 'aapl'\n",
    "\n",
    "# Documentation is your friend! http://docs.tweepy.org/en/v3.1.0/\n",
    "auth = tweepy.OAuthHandler(api_key, api_secret)\n",
    "auth.set_access_token(access_token, access_secret)\n",
    "api = tweepy.API(auth) # returns a tweepy authorization handler object\n",
    "tweets = api.search(q=tag)"
   ]
  },
  {
   "cell_type": "code",
   "execution_count": 36,
   "metadata": {
    "collapsed": false
   },
   "outputs": [
    {
     "data": {
      "text/plain": [
       "Status(contributors=None, truncated=False, text=u'Apple Stock Price: 109.47 #apple $AAPL', is_quote_status=False, in_reply_to_status_id=None, id=718121193916727296, favorite_count=0, _api=<tweepy.api.API object at 0x10f5fb650>, author=User(follow_request_sent=False, has_extended_profile=False, profile_use_background_image=False, _json={u'follow_request_sent': False, u'has_extended_profile': False, u'profile_use_background_image': False, u'default_profile_image': False, u'id': 3374613730, u'profile_background_image_url_https': u'https://abs.twimg.com/images/themes/theme1/bg.png', u'verified': False, u'profile_text_color': u'000000', u'profile_image_url_https': u'https://pbs.twimg.com/profile_images/620690331416178688/lzrH--bM_normal.jpg', u'profile_sidebar_fill_color': u'000000', u'entities': {u'url': {u'urls': [{u'url': u'http://t.co/tPbBd0tAlH', u'indices': [0, 22], u'expanded_url': u'http://www.google.co.uk/finance?q=NASDAQ%3AAAPL', u'display_url': u'google.co.uk/finance?q=NASD\\u2026'}]}, u'description': {u'urls': []}}, u'followers_count': 29, u'profile_sidebar_border_color': u'000000', u'id_str': u'3374613730', u'profile_background_color': u'000000', u'listed_count': 8, u'is_translation_enabled': False, u'utc_offset': None, u'statuses_count': 1347, u'description': u'Follow to get the latest $AAPL price in your feed every hour. Powered by @Flutter_HQ #apple', u'friends_count': 19, u'location': u'', u'profile_link_color': u'ABB8C2', u'profile_image_url': u'http://pbs.twimg.com/profile_images/620690331416178688/lzrH--bM_normal.jpg', u'following': False, u'geo_enabled': False, u'profile_background_image_url': u'http://abs.twimg.com/images/themes/theme1/bg.png', u'screen_name': u'AppleStockPrice', u'lang': u'en', u'profile_background_tile': False, u'favourites_count': 1, u'name': u'Apple Stock Price', u'notifications': False, u'url': u'http://t.co/tPbBd0tAlH', u'created_at': u'Mon Jul 13 20:17:47 +0000 2015', u'contributors_enabled': False, u'time_zone': None, u'protected': False, u'default_profile': False, u'is_translator': False}, time_zone=None, id=3374613730, _api=<tweepy.api.API object at 0x10f5fb650>, verified=False, profile_text_color=u'000000', profile_image_url_https=u'https://pbs.twimg.com/profile_images/620690331416178688/lzrH--bM_normal.jpg', profile_sidebar_fill_color=u'000000', is_translator=False, geo_enabled=False, entities={u'url': {u'urls': [{u'url': u'http://t.co/tPbBd0tAlH', u'indices': [0, 22], u'expanded_url': u'http://www.google.co.uk/finance?q=NASDAQ%3AAAPL', u'display_url': u'google.co.uk/finance?q=NASD\\u2026'}]}, u'description': {u'urls': []}}, followers_count=29, protected=False, id_str=u'3374613730', default_profile_image=False, listed_count=8, lang=u'en', utc_offset=None, statuses_count=1347, description=u'Follow to get the latest $AAPL price in your feed every hour. Powered by @Flutter_HQ #apple', friends_count=19, profile_link_color=u'ABB8C2', profile_image_url=u'http://pbs.twimg.com/profile_images/620690331416178688/lzrH--bM_normal.jpg', notifications=False, profile_background_image_url_https=u'https://abs.twimg.com/images/themes/theme1/bg.png', profile_background_color=u'000000', profile_background_image_url=u'http://abs.twimg.com/images/themes/theme1/bg.png', name=u'Apple Stock Price', is_translation_enabled=False, profile_background_tile=False, favourites_count=1, screen_name=u'AppleStockPrice', url=u'http://t.co/tPbBd0tAlH', created_at=datetime.datetime(2015, 7, 13, 20, 17, 47), contributors_enabled=False, location=u'', profile_sidebar_border_color=u'000000', default_profile=False, following=False), _json={u'contributors': None, u'truncated': False, u'text': u'Apple Stock Price: 109.47 #apple $AAPL', u'is_quote_status': False, u'in_reply_to_status_id': None, u'id': 718121193916727296, u'favorite_count': 0, u'entities': {u'symbols': [{u'indices': [33, 38], u'text': u'AAPL'}], u'user_mentions': [], u'hashtags': [{u'indices': [26, 32], u'text': u'apple'}], u'urls': []}, u'retweeted': False, u'coordinates': None, u'source': u'<a href=\"https://flutter.social\" rel=\"nofollow\">Flutter_HQ</a>', u'in_reply_to_screen_name': None, u'in_reply_to_user_id': None, u'retweet_count': 0, u'id_str': u'718121193916727296', u'favorited': False, u'user': {u'follow_request_sent': False, u'has_extended_profile': False, u'profile_use_background_image': False, u'default_profile_image': False, u'id': 3374613730, u'profile_background_image_url_https': u'https://abs.twimg.com/images/themes/theme1/bg.png', u'verified': False, u'profile_text_color': u'000000', u'profile_image_url_https': u'https://pbs.twimg.com/profile_images/620690331416178688/lzrH--bM_normal.jpg', u'profile_sidebar_fill_color': u'000000', u'entities': {u'url': {u'urls': [{u'url': u'http://t.co/tPbBd0tAlH', u'indices': [0, 22], u'expanded_url': u'http://www.google.co.uk/finance?q=NASDAQ%3AAAPL', u'display_url': u'google.co.uk/finance?q=NASD\\u2026'}]}, u'description': {u'urls': []}}, u'followers_count': 29, u'profile_sidebar_border_color': u'000000', u'id_str': u'3374613730', u'profile_background_color': u'000000', u'listed_count': 8, u'is_translation_enabled': False, u'utc_offset': None, u'statuses_count': 1347, u'description': u'Follow to get the latest $AAPL price in your feed every hour. Powered by @Flutter_HQ #apple', u'friends_count': 19, u'location': u'', u'profile_link_color': u'ABB8C2', u'profile_image_url': u'http://pbs.twimg.com/profile_images/620690331416178688/lzrH--bM_normal.jpg', u'following': False, u'geo_enabled': False, u'profile_background_image_url': u'http://abs.twimg.com/images/themes/theme1/bg.png', u'screen_name': u'AppleStockPrice', u'lang': u'en', u'profile_background_tile': False, u'favourites_count': 1, u'name': u'Apple Stock Price', u'notifications': False, u'url': u'http://t.co/tPbBd0tAlH', u'created_at': u'Mon Jul 13 20:17:47 +0000 2015', u'contributors_enabled': False, u'time_zone': None, u'protected': False, u'default_profile': False, u'is_translator': False}, u'geo': None, u'in_reply_to_user_id_str': None, u'lang': u'en', u'created_at': u'Thu Apr 07 17:00:09 +0000 2016', u'in_reply_to_status_id_str': None, u'place': None, u'metadata': {u'iso_language_code': u'en', u'result_type': u'recent'}}, coordinates=None, entities={u'symbols': [{u'indices': [33, 38], u'text': u'AAPL'}], u'user_mentions': [], u'hashtags': [{u'indices': [26, 32], u'text': u'apple'}], u'urls': []}, in_reply_to_screen_name=None, id_str=u'718121193916727296', retweet_count=0, in_reply_to_user_id=None, favorited=False, source_url=u'https://flutter.social', user=User(follow_request_sent=False, has_extended_profile=False, profile_use_background_image=False, _json={u'follow_request_sent': False, u'has_extended_profile': False, u'profile_use_background_image': False, u'default_profile_image': False, u'id': 3374613730, u'profile_background_image_url_https': u'https://abs.twimg.com/images/themes/theme1/bg.png', u'verified': False, u'profile_text_color': u'000000', u'profile_image_url_https': u'https://pbs.twimg.com/profile_images/620690331416178688/lzrH--bM_normal.jpg', u'profile_sidebar_fill_color': u'000000', u'entities': {u'url': {u'urls': [{u'url': u'http://t.co/tPbBd0tAlH', u'indices': [0, 22], u'expanded_url': u'http://www.google.co.uk/finance?q=NASDAQ%3AAAPL', u'display_url': u'google.co.uk/finance?q=NASD\\u2026'}]}, u'description': {u'urls': []}}, u'followers_count': 29, u'profile_sidebar_border_color': u'000000', u'id_str': u'3374613730', u'profile_background_color': u'000000', u'listed_count': 8, u'is_translation_enabled': False, u'utc_offset': None, u'statuses_count': 1347, u'description': u'Follow to get the latest $AAPL price in your feed every hour. Powered by @Flutter_HQ #apple', u'friends_count': 19, u'location': u'', u'profile_link_color': u'ABB8C2', u'profile_image_url': u'http://pbs.twimg.com/profile_images/620690331416178688/lzrH--bM_normal.jpg', u'following': False, u'geo_enabled': False, u'profile_background_image_url': u'http://abs.twimg.com/images/themes/theme1/bg.png', u'screen_name': u'AppleStockPrice', u'lang': u'en', u'profile_background_tile': False, u'favourites_count': 1, u'name': u'Apple Stock Price', u'notifications': False, u'url': u'http://t.co/tPbBd0tAlH', u'created_at': u'Mon Jul 13 20:17:47 +0000 2015', u'contributors_enabled': False, u'time_zone': None, u'protected': False, u'default_profile': False, u'is_translator': False}, time_zone=None, id=3374613730, _api=<tweepy.api.API object at 0x10f5fb650>, verified=False, profile_text_color=u'000000', profile_image_url_https=u'https://pbs.twimg.com/profile_images/620690331416178688/lzrH--bM_normal.jpg', profile_sidebar_fill_color=u'000000', is_translator=False, geo_enabled=False, entities={u'url': {u'urls': [{u'url': u'http://t.co/tPbBd0tAlH', u'indices': [0, 22], u'expanded_url': u'http://www.google.co.uk/finance?q=NASDAQ%3AAAPL', u'display_url': u'google.co.uk/finance?q=NASD\\u2026'}]}, u'description': {u'urls': []}}, followers_count=29, protected=False, id_str=u'3374613730', default_profile_image=False, listed_count=8, lang=u'en', utc_offset=None, statuses_count=1347, description=u'Follow to get the latest $AAPL price in your feed every hour. Powered by @Flutter_HQ #apple', friends_count=19, profile_link_color=u'ABB8C2', profile_image_url=u'http://pbs.twimg.com/profile_images/620690331416178688/lzrH--bM_normal.jpg', notifications=False, profile_background_image_url_https=u'https://abs.twimg.com/images/themes/theme1/bg.png', profile_background_color=u'000000', profile_background_image_url=u'http://abs.twimg.com/images/themes/theme1/bg.png', name=u'Apple Stock Price', is_translation_enabled=False, profile_background_tile=False, favourites_count=1, screen_name=u'AppleStockPrice', url=u'http://t.co/tPbBd0tAlH', created_at=datetime.datetime(2015, 7, 13, 20, 17, 47), contributors_enabled=False, location=u'', profile_sidebar_border_color=u'000000', default_profile=False, following=False), geo=None, in_reply_to_user_id_str=None, lang=u'en', created_at=datetime.datetime(2016, 4, 7, 17, 0, 9), in_reply_to_status_id_str=None, place=None, source=u'Flutter_HQ', retweeted=False, metadata={u'iso_language_code': u'en', u'result_type': u'recent'})"
      ]
     },
     "execution_count": 36,
     "metadata": {},
     "output_type": "execute_result"
    }
   ],
   "source": [
    "# let's take a look at the first one\n",
    "tweets[0]"
   ]
  },
  {
   "cell_type": "code",
   "execution_count": 37,
   "metadata": {
    "collapsed": false
   },
   "outputs": [
    {
     "name": "stdout",
     "output_type": "stream",
     "text": [
      "2016-04-07 17:00:09\n",
      "Apple Stock Price: 109.47 #apple $AAPL\n"
     ]
    }
   ],
   "source": [
    "# wrappers come with built in python attributes and methods!\n",
    "print tweets[0].created_at\n",
    "print tweets[0].text"
   ]
  },
  {
   "cell_type": "code",
   "execution_count": 38,
   "metadata": {
    "collapsed": false
   },
   "outputs": [
    {
     "data": {
      "text/plain": [
       "User(follow_request_sent=False, has_extended_profile=False, profile_use_background_image=False, _json={u'follow_request_sent': False, u'has_extended_profile': False, u'profile_use_background_image': False, u'default_profile_image': False, u'id': 3374613730, u'profile_background_image_url_https': u'https://abs.twimg.com/images/themes/theme1/bg.png', u'verified': False, u'profile_text_color': u'000000', u'profile_image_url_https': u'https://pbs.twimg.com/profile_images/620690331416178688/lzrH--bM_normal.jpg', u'profile_sidebar_fill_color': u'000000', u'entities': {u'url': {u'urls': [{u'url': u'http://t.co/tPbBd0tAlH', u'indices': [0, 22], u'expanded_url': u'http://www.google.co.uk/finance?q=NASDAQ%3AAAPL', u'display_url': u'google.co.uk/finance?q=NASD\\u2026'}]}, u'description': {u'urls': []}}, u'followers_count': 29, u'profile_sidebar_border_color': u'000000', u'id_str': u'3374613730', u'profile_background_color': u'000000', u'listed_count': 8, u'is_translation_enabled': False, u'utc_offset': None, u'statuses_count': 1347, u'description': u'Follow to get the latest $AAPL price in your feed every hour. Powered by @Flutter_HQ #apple', u'friends_count': 19, u'location': u'', u'profile_link_color': u'ABB8C2', u'profile_image_url': u'http://pbs.twimg.com/profile_images/620690331416178688/lzrH--bM_normal.jpg', u'following': False, u'geo_enabled': False, u'profile_background_image_url': u'http://abs.twimg.com/images/themes/theme1/bg.png', u'screen_name': u'AppleStockPrice', u'lang': u'en', u'profile_background_tile': False, u'favourites_count': 1, u'name': u'Apple Stock Price', u'notifications': False, u'url': u'http://t.co/tPbBd0tAlH', u'created_at': u'Mon Jul 13 20:17:47 +0000 2015', u'contributors_enabled': False, u'time_zone': None, u'protected': False, u'default_profile': False, u'is_translator': False}, time_zone=None, id=3374613730, _api=<tweepy.api.API object at 0x10f5fb650>, verified=False, profile_text_color=u'000000', profile_image_url_https=u'https://pbs.twimg.com/profile_images/620690331416178688/lzrH--bM_normal.jpg', profile_sidebar_fill_color=u'000000', is_translator=False, geo_enabled=False, entities={u'url': {u'urls': [{u'url': u'http://t.co/tPbBd0tAlH', u'indices': [0, 22], u'expanded_url': u'http://www.google.co.uk/finance?q=NASDAQ%3AAAPL', u'display_url': u'google.co.uk/finance?q=NASD\\u2026'}]}, u'description': {u'urls': []}}, followers_count=29, protected=False, id_str=u'3374613730', default_profile_image=False, listed_count=8, lang=u'en', utc_offset=None, statuses_count=1347, description=u'Follow to get the latest $AAPL price in your feed every hour. Powered by @Flutter_HQ #apple', friends_count=19, profile_link_color=u'ABB8C2', profile_image_url=u'http://pbs.twimg.com/profile_images/620690331416178688/lzrH--bM_normal.jpg', notifications=False, profile_background_image_url_https=u'https://abs.twimg.com/images/themes/theme1/bg.png', profile_background_color=u'000000', profile_background_image_url=u'http://abs.twimg.com/images/themes/theme1/bg.png', name=u'Apple Stock Price', is_translation_enabled=False, profile_background_tile=False, favourites_count=1, screen_name=u'AppleStockPrice', url=u'http://t.co/tPbBd0tAlH', created_at=datetime.datetime(2015, 7, 13, 20, 17, 47), contributors_enabled=False, location=u'', profile_sidebar_border_color=u'000000', default_profile=False, following=False)"
      ]
     },
     "execution_count": 38,
     "metadata": {},
     "output_type": "execute_result"
    }
   ],
   "source": [
    "# the author is an object in and of itself\n",
    "tweets[0].author"
   ]
  },
  {
   "cell_type": "code",
   "execution_count": 39,
   "metadata": {
    "collapsed": false
   },
   "outputs": [
    {
     "name": "stdout",
     "output_type": "stream",
     "text": [
      "AppleStockPrice\n",
      "http://pbs.twimg.com/profile_images/620690331416178688/lzrH--bM_normal.jpg\n"
     ]
    }
   ],
   "source": [
    "# the author's handle\n",
    "print tweets[0].author.screen_name\n",
    "print tweets[0].author.profile_image_url"
   ]
  },
  {
   "cell_type": "markdown",
   "metadata": {},
   "source": [
    "<img src=\"http://pbs.twimg.com/profile_images/620690331416178688/lzrH--bM_normal.jpg\">"
   ]
  },
  {
   "cell_type": "code",
   "execution_count": 85,
   "metadata": {
    "collapsed": false
   },
   "outputs": [
    {
     "name": "stdout",
     "output_type": "stream",
     "text": [
      "beginning live feed....\n",
      "@iParisMD at 2016-04-07 09:16:06: RT @diegoluna_: The teaser is out! So exciting!!  https://t.co/2UjUXus9sc with 90 followers\n",
      "\n",
      "@vinizviana at 2016-04-07 09:16:07: RT @omelete: [OmeleTV] Agora, a surpresa final e discreta: DARTH VADER EST SIM NO TRAILER! #RogueOne https://t.co/5gFFVGCPSe with 799 followers\n",
      "\n",
      "@omgcantbreathe at 2016-04-07 09:16:07: any person whining that Star Wars is having awesome female leads can go cuddle a dianoga #rogueone with 626 followers\n",
      "\n",
      "@potentialKEN at 2016-04-07 09:16:07: #ROGUEONE teaser trailer looks like #Disney is doubling down on the idea that #STARWARS is for #girls too! #feminism https://t.co/ybLmIWZaEL with 1339 followers\n",
      "\n",
      "@mstaylorjordan at 2016-04-07 09:16:07: RT @starwars: \"I rebel.\" #RogueOne https://t.co/boMhrarHXV with 476 followers\n",
      "\n",
      "@Krelian29 at 2016-04-07 09:16:07: Star Wars Rogue One main villain ? #starwars #rogueone #starwarsrogueone #empire https://t.co/Cx0VseahDV with 84 followers\n",
      "\n",
      "@love_celeste1 at 2016-04-07 09:16:07: RT @deezytho: Starbucks  with 1776 followers\n",
      "\n",
      "@davidj_1914 at 2016-04-07 09:16:07: #StarWars releases a trailer and within hours they are trending world wide....brand power #StarWarsRogueOne #RogueOne #RogueOneTrailer with 293 followers\n",
      "\n",
      "@JessicaHickson at 2016-04-07 09:16:07: RT @abbigail_tracy: MTSU Students: RT for a chance to win a $15 Starbucks or Toots gift card, and vote for me for your Senator at Large! ht with 200 followers\n",
      "\n",
      "@chrisrussell81 at 2016-04-07 09:16:08: RT @cperrin24: YES!! https://t.co/ZVS4DABzUc with 77 followers\n",
      "\n",
      "@FrancoGabrielli at 2016-04-07 09:16:08: RT @starwars: \"I rebel.\" #RogueOne https://t.co/boMhrarHXV with 91 followers\n",
      "\n",
      "@dougalgodfrey at 2016-04-07 09:16:08: @ArtSinclair I hope that was a registered service dog! @Starbucks with 526 followers\n",
      "\n",
      "@JanzSkywalker at 2016-04-07 09:16:08: RT @starwars: \"I rebel.\" #RogueOne https://t.co/boMhrarHXV with 130 followers\n",
      "\n",
      "@TheLadonegro at 2016-04-07 09:16:08: Falar o que dessa crush no Star Wars Rogue One? shuahsau https://t.co/GaonfewEms with 201 followers\n",
      "\n",
      "@Peacelovechai at 2016-04-07 09:16:08: Anyone who hasn't seen the #RogueOne trailer should watch the #RogueOneTrailer a dozen times.  https://t.co/GgT6dv77gU with 483 followers\n",
      "\n",
      "@danielagranell at 2016-04-07 09:16:08: RT @starwars: Its here. The official teaser trailer for ROGUE ONE: A STAR WARS STORY. #RogueOne\n",
      "https://t.co/xRvI5eVapf with 403 followers\n",
      "\n",
      "@TinentColomb at 2016-04-07 09:16:09: RT @starwars: \"I rebel.\" #RogueOne https://t.co/boMhrarHXV with 107 followers\n",
      "\n",
      "@Tommy_Blackjack at 2016-04-07 09:16:09: RT @starwars: \"I rebel.\" #RogueOne https://t.co/boMhrarHXV with 300 followers\n",
      "\n",
      "@thisjohnd at 2016-04-07 09:16:09: RT @srDAVIDLAFUENTE: THIS IS A REBELLION, ISN'T IT? https://t.co/LucSD1Y0mV #RogueOne https://t.co/2Yq4FFaxKK with 51 followers\n",
      "\n",
      "@JimmSk8 at 2016-04-07 09:16:09: RT @starwars: Its here. The official teaser trailer for ROGUE ONE: A STAR WARS STORY. #RogueOne\n",
      "https://t.co/xRvI5eVapf with 1307 followers\n",
      "\n",
      "@supermansteel34 at 2016-04-07 09:16:09: RT @diegoluna_: The teaser is out! So exciting!!  https://t.co/2UjUXus9sc with 626 followers\n",
      "\n",
      "@thiscozyskull at 2016-04-07 09:16:09: RT @TheGeoffTodd: ! = You're excited.\n",
      "!! = You're really excited.\n",
      "!!! = You don't understand punctuation.\n",
      "!!!! = You just watched the #Rogu with 89 followers\n",
      "\n",
      "@kingb10161 at 2016-04-07 09:16:09: RT @starwars: Its here. The official teaser trailer for ROGUE ONE: A STAR WARS STORY. #RogueOne\n",
      "https://t.co/xRvI5eVapf with 100 followers\n",
      "\n",
      "@pulpfable at 2016-04-07 09:16:10: RT @starwars: Its here. The official teaser trailer for ROGUE ONE: A STAR WARS STORY. #RogueOne\n",
      "https://t.co/xRvI5eVapf with 673 followers\n",
      "\n",
      "@halavance at 2016-04-07 09:16:10: RT @starwars: Its here. The official teaser trailer for ROGUE ONE: A STAR WARS STORY. #RogueOne\n",
      "https://t.co/xRvI5eVapf with 105 followers\n",
      "\n",
      "@julianw1978 at 2016-04-07 09:16:10: RT @starwars: Its here. The official teaser trailer for ROGUE ONE: A STAR WARS STORY. #RogueOne\n",
      "https://t.co/xRvI5eVapf with 329 followers\n",
      "\n",
      "@TheTrollzYT at 2016-04-07 09:16:10: RT @turnt_bb8: Me attempting to wait patiently for December so I can see #RogueOne https://t.co/eIwNns0gHn with 261 followers\n",
      "\n",
      "@noa_yesk at 2016-04-07 09:16:10: RT @starwars: Its here. The official teaser trailer for ROGUE ONE: A STAR WARS STORY. #RogueOne\n",
      "https://t.co/xRvI5eVapf with 190 followers\n",
      "\n",
      "@rickelodeon_ at 2016-04-07 09:16:10: RT @starwars: \"I rebel.\" #RogueOne https://t.co/boMhrarHXV with 154 followers\n",
      "\n",
      "@shanejenk_SJ5 at 2016-04-07 09:16:10: RT @starwars: Its here. The official teaser trailer for ROGUE ONE: A STAR WARS STORY. #RogueOne\n",
      "https://t.co/xRvI5eVapf with 366 followers\n",
      "\n",
      "@marianadiasb at 2016-04-07 09:16:10: RT @omelete: [OmeleTV] Agora, a surpresa final e discreta: DARTH VADER EST SIM NO TRAILER! #RogueOne https://t.co/5gFFVGCPSe with 476 followers\n",
      "\n",
      "@capitaoinvernal at 2016-04-07 09:16:10: RT @Cinemark: Watch the brand new teaser trailer for ROGUE ONE: A STAR WARS STORY - coming to Cinemark this December! https://t.co/qojuIqBU with 755 followers\n",
      "\n",
      "@DavidKantrowitz at 2016-04-07 09:16:10: I'm sure I'll get sick of movies with Death Stars in them eventually, but for now HOLY SHIT #RogueOne !!!!! with 1315 followers\n",
      "\n",
      "@osadollor1 at 2016-04-07 09:16:11: RT @EmekaGift: @FODEastLothian,How Pro-Biafra Activists Were Murdered And Dumped At Onitsha Mortuary By Nigerian Soldiers https://t.co/HK7A with 88 followers\n",
      "\n",
      "@KyKy524 at 2016-04-07 09:16:11: RT @BadFatherHan: I'm going to freeze myself in carbonite until #RogueOne comes out. https://t.co/SSgqqaPloG with 238 followers\n",
      "\n",
      "@VoodooRoo556 at 2016-04-07 09:16:11: Can we have one major movie release without a question of racism or sexism? Please? #RogueOne #StarWars with 62 followers\n",
      "\n",
      "@ricardoautobahn at 2016-04-07 09:16:11: RT @Mumbler3: Laughing at the menbabies again. Do you do this when women are in anything? Oh yes. Course you do. #rogueone with 629 followers\n",
      "\n",
      "@t_eggplant at 2016-04-07 09:16:11: RT @starwars: Tune in to @GMA tomorrow for the debut of the brand new teaser trailer for ROGUE ONE: A STAR WARS STORY. #RogueOne\n",
      "https://t. with 126 followers\n",
      "\n",
      "@EAPhoneHome at 2016-04-07 09:16:11: That #RogueOne trailer is 70s as fuck! #SoPumped with 92 followers\n",
      "\n",
      "@a24dowell at 2016-04-07 09:16:11: @SD_JimmyFisher I call bro date in December https://t.co/aS0sFQIyAY with 404 followers\n",
      "\n",
      "@JERRY_RY2 at 2016-04-07 09:16:12: RT @starwars: \"I rebel.\" #RogueOne https://t.co/boMhrarHXV with 36 followers\n",
      "\n",
      "@FatimaAR33 at 2016-04-07 09:16:12: #Margaritaville AD3100 Glass Jar for DM2000 Series - NEW IN BOX  #WorldHealthDay #RogueOne #Mashable #Meek\n",
      "https://t.co/gRcHdnTsZn via @eBay with 470 followers\n",
      "\n",
      "@vaporvinyls at 2016-04-07 09:16:12: the next katniss everdeen https://t.co/I7YDkvNVZU with 2459 followers\n",
      "\n",
      "@Nubysh at 2016-04-07 09:16:12: RT @peopleschoice: The Star Wars Trailer For #RogueOne Is Finally Here, And Well Be Watching It On Repeat: https://t.co/5oLy9p8sOv https with 122 followers\n",
      "\n",
      "@SW_ArtGallery at 2016-04-07 09:16:11: \"Star Wars Rogue One\" | by @DarthTemoc #StarWars #RogueOne #fanart https://t.co/M1iK1fjCfh with 707 followers\n",
      "\n",
      "@ant3YT94 at 2016-04-07 09:16:12: RT @IGN: Star Wars: Who is Jyn Erso? #RogueOne https://t.co/N5FAqz7sSQ https://t.co/ffTEYjSJaA with 999 followers\n",
      "\n",
      "@_reeyees at 2016-04-07 09:16:12: RT @starwars: Its here. The official teaser trailer for ROGUE ONE: A STAR WARS STORY. #RogueOne\n",
      "https://t.co/xRvI5eVapf with 178 followers\n",
      "\n",
      "@_nathy at 2016-04-07 09:16:12: RT @starwars: \"I rebel.\" #RogueOne https://t.co/boMhrarHXV with 1165 followers\n",
      "\n",
      "@afisch01 at 2016-04-07 09:16:12: @Cyclopaat @Chrisdotfisch PS...I love you both #StarWars #RogueOne #geekout #fangirling with 198 followers\n",
      "\n"
     ]
    },
    {
     "ename": "KeyboardInterrupt",
     "evalue": "",
     "output_type": "error",
     "traceback": [
      "\u001b[0;31m---------------------------------------------------------------------------\u001b[0m",
      "\u001b[0;31mKeyboardInterrupt\u001b[0m                         Traceback (most recent call last)",
      "\u001b[0;32m<ipython-input-85-d9191b55bd2d>\u001b[0m in \u001b[0;36m<module>\u001b[0;34m()\u001b[0m\n\u001b[1;32m     29\u001b[0m     \u001b[0mstream\u001b[0m\u001b[0;34m.\u001b[0m\u001b[0mfilter\u001b[0m\u001b[0;34m(\u001b[0m\u001b[0mtrack\u001b[0m\u001b[0;34m=\u001b[0m\u001b[0mtags_to_follow\u001b[0m\u001b[0;34m)\u001b[0m\u001b[0;34m\u001b[0m\u001b[0m\n\u001b[1;32m     30\u001b[0m \u001b[0;34m\u001b[0m\u001b[0m\n\u001b[0;32m---> 31\u001b[0;31m \u001b[0mbegin_live_feed\u001b[0m\u001b[0;34m(\u001b[0m\u001b[0;34m[\u001b[0m\u001b[0;34m'#rogueone'\u001b[0m\u001b[0;34m,\u001b[0m \u001b[0;34m'starbucks'\u001b[0m\u001b[0;34m]\u001b[0m\u001b[0;34m)\u001b[0m\u001b[0;34m\u001b[0m\u001b[0m\n\u001b[0m\u001b[1;32m     32\u001b[0m \u001b[0;31m# this is an example use, if you create a list of words and phrases,\u001b[0m\u001b[0;34m\u001b[0m\u001b[0;34m\u001b[0m\u001b[0m\n\u001b[1;32m     33\u001b[0m \u001b[0;31m# a live stream of tweets about them will show up\u001b[0m\u001b[0;34m\u001b[0m\u001b[0;34m\u001b[0m\u001b[0m\n",
      "\u001b[0;32m<ipython-input-85-d9191b55bd2d>\u001b[0m in \u001b[0;36mbegin_live_feed\u001b[0;34m(tags_to_follow)\u001b[0m\n\u001b[1;32m     27\u001b[0m     \u001b[0mauth\u001b[0m\u001b[0;34m.\u001b[0m\u001b[0mset_access_token\u001b[0m\u001b[0;34m(\u001b[0m\u001b[0maccess_token\u001b[0m\u001b[0;34m,\u001b[0m \u001b[0maccess_secret\u001b[0m\u001b[0;34m)\u001b[0m\u001b[0;34m\u001b[0m\u001b[0m\n\u001b[1;32m     28\u001b[0m     \u001b[0mstream\u001b[0m \u001b[0;34m=\u001b[0m \u001b[0mtweepy\u001b[0m\u001b[0;34m.\u001b[0m\u001b[0mStream\u001b[0m\u001b[0;34m(\u001b[0m\u001b[0mauth\u001b[0m\u001b[0;34m,\u001b[0m \u001b[0ml\u001b[0m\u001b[0;34m)\u001b[0m\u001b[0;34m\u001b[0m\u001b[0m\n\u001b[0;32m---> 29\u001b[0;31m     \u001b[0mstream\u001b[0m\u001b[0;34m.\u001b[0m\u001b[0mfilter\u001b[0m\u001b[0;34m(\u001b[0m\u001b[0mtrack\u001b[0m\u001b[0;34m=\u001b[0m\u001b[0mtags_to_follow\u001b[0m\u001b[0;34m)\u001b[0m\u001b[0;34m\u001b[0m\u001b[0m\n\u001b[0m\u001b[1;32m     30\u001b[0m \u001b[0;34m\u001b[0m\u001b[0m\n\u001b[1;32m     31\u001b[0m \u001b[0mbegin_live_feed\u001b[0m\u001b[0;34m(\u001b[0m\u001b[0;34m[\u001b[0m\u001b[0;34m'#rogueone'\u001b[0m\u001b[0;34m,\u001b[0m \u001b[0;34m'starbucks'\u001b[0m\u001b[0;34m]\u001b[0m\u001b[0;34m)\u001b[0m\u001b[0;34m\u001b[0m\u001b[0m\n",
      "\u001b[0;32m/Library/Frameworks/Python.framework/Versions/2.7/lib/python2.7/site-packages/tweepy/streaming.pyc\u001b[0m in \u001b[0;36mfilter\u001b[0;34m(self, follow, track, async, locations, stall_warnings, languages, encoding)\u001b[0m\n\u001b[1;32m    426\u001b[0m         \u001b[0mself\u001b[0m\u001b[0;34m.\u001b[0m\u001b[0msession\u001b[0m\u001b[0;34m.\u001b[0m\u001b[0mparams\u001b[0m \u001b[0;34m=\u001b[0m \u001b[0;34m{\u001b[0m\u001b[0;34m'delimited'\u001b[0m\u001b[0;34m:\u001b[0m \u001b[0;34m'length'\u001b[0m\u001b[0;34m}\u001b[0m\u001b[0;34m\u001b[0m\u001b[0m\n\u001b[1;32m    427\u001b[0m         \u001b[0mself\u001b[0m\u001b[0;34m.\u001b[0m\u001b[0mhost\u001b[0m \u001b[0;34m=\u001b[0m \u001b[0;34m'stream.twitter.com'\u001b[0m\u001b[0;34m\u001b[0m\u001b[0m\n\u001b[0;32m--> 428\u001b[0;31m         \u001b[0mself\u001b[0m\u001b[0;34m.\u001b[0m\u001b[0m_start\u001b[0m\u001b[0;34m(\u001b[0m\u001b[0masync\u001b[0m\u001b[0;34m)\u001b[0m\u001b[0;34m\u001b[0m\u001b[0m\n\u001b[0m\u001b[1;32m    429\u001b[0m \u001b[0;34m\u001b[0m\u001b[0m\n\u001b[1;32m    430\u001b[0m     def sitestream(self, follow, stall_warnings=False,\n",
      "\u001b[0;32m/Library/Frameworks/Python.framework/Versions/2.7/lib/python2.7/site-packages/tweepy/streaming.pyc\u001b[0m in \u001b[0;36m_start\u001b[0;34m(self, async)\u001b[0m\n\u001b[1;32m    344\u001b[0m             \u001b[0mself\u001b[0m\u001b[0;34m.\u001b[0m\u001b[0m_thread\u001b[0m\u001b[0;34m.\u001b[0m\u001b[0mstart\u001b[0m\u001b[0;34m(\u001b[0m\u001b[0;34m)\u001b[0m\u001b[0;34m\u001b[0m\u001b[0m\n\u001b[1;32m    345\u001b[0m         \u001b[0;32melse\u001b[0m\u001b[0;34m:\u001b[0m\u001b[0;34m\u001b[0m\u001b[0m\n\u001b[0;32m--> 346\u001b[0;31m             \u001b[0mself\u001b[0m\u001b[0;34m.\u001b[0m\u001b[0m_run\u001b[0m\u001b[0;34m(\u001b[0m\u001b[0;34m)\u001b[0m\u001b[0;34m\u001b[0m\u001b[0m\n\u001b[0m\u001b[1;32m    347\u001b[0m \u001b[0;34m\u001b[0m\u001b[0m\n\u001b[1;32m    348\u001b[0m     \u001b[0;32mdef\u001b[0m \u001b[0mon_closed\u001b[0m\u001b[0;34m(\u001b[0m\u001b[0mself\u001b[0m\u001b[0;34m,\u001b[0m \u001b[0mresp\u001b[0m\u001b[0;34m)\u001b[0m\u001b[0;34m:\u001b[0m\u001b[0;34m\u001b[0m\u001b[0m\n",
      "\u001b[0;32m/Library/Frameworks/Python.framework/Versions/2.7/lib/python2.7/site-packages/tweepy/streaming.pyc\u001b[0m in \u001b[0;36m_run\u001b[0;34m(self)\u001b[0m\n\u001b[1;32m    253\u001b[0m                     \u001b[0mself\u001b[0m\u001b[0;34m.\u001b[0m\u001b[0msnooze_time\u001b[0m \u001b[0;34m=\u001b[0m \u001b[0mself\u001b[0m\u001b[0;34m.\u001b[0m\u001b[0msnooze_time_step\u001b[0m\u001b[0;34m\u001b[0m\u001b[0m\n\u001b[1;32m    254\u001b[0m                     \u001b[0mself\u001b[0m\u001b[0;34m.\u001b[0m\u001b[0mlistener\u001b[0m\u001b[0;34m.\u001b[0m\u001b[0mon_connect\u001b[0m\u001b[0;34m(\u001b[0m\u001b[0;34m)\u001b[0m\u001b[0;34m\u001b[0m\u001b[0m\n\u001b[0;32m--> 255\u001b[0;31m                     \u001b[0mself\u001b[0m\u001b[0;34m.\u001b[0m\u001b[0m_read_loop\u001b[0m\u001b[0;34m(\u001b[0m\u001b[0mresp\u001b[0m\u001b[0;34m)\u001b[0m\u001b[0;34m\u001b[0m\u001b[0m\n\u001b[0m\u001b[1;32m    256\u001b[0m             \u001b[0;32mexcept\u001b[0m \u001b[0;34m(\u001b[0m\u001b[0mTimeout\u001b[0m\u001b[0;34m,\u001b[0m \u001b[0mssl\u001b[0m\u001b[0;34m.\u001b[0m\u001b[0mSSLError\u001b[0m\u001b[0;34m)\u001b[0m \u001b[0;32mas\u001b[0m \u001b[0mexc\u001b[0m\u001b[0;34m:\u001b[0m\u001b[0;34m\u001b[0m\u001b[0m\n\u001b[1;32m    257\u001b[0m                 \u001b[0;31m# This is still necessary, as a SSLError can actually be\u001b[0m\u001b[0;34m\u001b[0m\u001b[0;34m\u001b[0m\u001b[0m\n",
      "\u001b[0;32m/Library/Frameworks/Python.framework/Versions/2.7/lib/python2.7/site-packages/tweepy/streaming.pyc\u001b[0m in \u001b[0;36m_read_loop\u001b[0;34m(self, resp)\u001b[0m\n\u001b[1;32m    296\u001b[0m             \u001b[0mlength\u001b[0m \u001b[0;34m=\u001b[0m \u001b[0;36m0\u001b[0m\u001b[0;34m\u001b[0m\u001b[0m\n\u001b[1;32m    297\u001b[0m             \u001b[0;32mwhile\u001b[0m \u001b[0;32mnot\u001b[0m \u001b[0mresp\u001b[0m\u001b[0;34m.\u001b[0m\u001b[0mraw\u001b[0m\u001b[0;34m.\u001b[0m\u001b[0mclosed\u001b[0m\u001b[0;34m:\u001b[0m\u001b[0;34m\u001b[0m\u001b[0m\n\u001b[0;32m--> 298\u001b[0;31m                 \u001b[0mline\u001b[0m \u001b[0;34m=\u001b[0m \u001b[0mbuf\u001b[0m\u001b[0;34m.\u001b[0m\u001b[0mread_line\u001b[0m\u001b[0;34m(\u001b[0m\u001b[0;34m)\u001b[0m\u001b[0;34m.\u001b[0m\u001b[0mstrip\u001b[0m\u001b[0;34m(\u001b[0m\u001b[0;34m)\u001b[0m\u001b[0;34m\u001b[0m\u001b[0m\n\u001b[0m\u001b[1;32m    299\u001b[0m                 \u001b[0;32mif\u001b[0m \u001b[0;32mnot\u001b[0m \u001b[0mline\u001b[0m\u001b[0;34m:\u001b[0m\u001b[0;34m\u001b[0m\u001b[0m\n\u001b[1;32m    300\u001b[0m                     \u001b[0mself\u001b[0m\u001b[0;34m.\u001b[0m\u001b[0mlistener\u001b[0m\u001b[0;34m.\u001b[0m\u001b[0mkeep_alive\u001b[0m\u001b[0;34m(\u001b[0m\u001b[0;34m)\u001b[0m  \u001b[0;31m# keep-alive new lines are expected\u001b[0m\u001b[0;34m\u001b[0m\u001b[0m\n",
      "\u001b[0;32m/Library/Frameworks/Python.framework/Versions/2.7/lib/python2.7/site-packages/tweepy/streaming.pyc\u001b[0m in \u001b[0;36mread_line\u001b[0;34m(self, sep)\u001b[0m\n\u001b[1;32m    169\u001b[0m             \u001b[0;32melse\u001b[0m\u001b[0;34m:\u001b[0m\u001b[0;34m\u001b[0m\u001b[0m\n\u001b[1;32m    170\u001b[0m                 \u001b[0mstart\u001b[0m \u001b[0;34m=\u001b[0m \u001b[0mlen\u001b[0m\u001b[0;34m(\u001b[0m\u001b[0mself\u001b[0m\u001b[0;34m.\u001b[0m\u001b[0m_buffer\u001b[0m\u001b[0;34m)\u001b[0m\u001b[0;34m\u001b[0m\u001b[0m\n\u001b[0;32m--> 171\u001b[0;31m             \u001b[0mself\u001b[0m\u001b[0;34m.\u001b[0m\u001b[0m_buffer\u001b[0m \u001b[0;34m+=\u001b[0m \u001b[0mself\u001b[0m\u001b[0;34m.\u001b[0m\u001b[0m_stream\u001b[0m\u001b[0;34m.\u001b[0m\u001b[0mread\u001b[0m\u001b[0;34m(\u001b[0m\u001b[0mself\u001b[0m\u001b[0;34m.\u001b[0m\u001b[0m_chunk_size\u001b[0m\u001b[0;34m)\u001b[0m\u001b[0;34m.\u001b[0m\u001b[0mdecode\u001b[0m\u001b[0;34m(\u001b[0m\u001b[0;34m\"ascii\"\u001b[0m\u001b[0;34m)\u001b[0m\u001b[0;34m\u001b[0m\u001b[0m\n\u001b[0m\u001b[1;32m    172\u001b[0m \u001b[0;34m\u001b[0m\u001b[0m\n\u001b[1;32m    173\u001b[0m     \u001b[0;32mdef\u001b[0m \u001b[0m_pop\u001b[0m\u001b[0;34m(\u001b[0m\u001b[0mself\u001b[0m\u001b[0;34m,\u001b[0m \u001b[0mlength\u001b[0m\u001b[0;34m)\u001b[0m\u001b[0;34m:\u001b[0m\u001b[0;34m\u001b[0m\u001b[0m\n",
      "\u001b[0;32m/Library/Frameworks/Python.framework/Versions/2.7/lib/python2.7/site-packages/requests/packages/urllib3/response.pyc\u001b[0m in \u001b[0;36mread\u001b[0;34m(self, amt, decode_content, cache_content)\u001b[0m\n\u001b[1;32m    181\u001b[0m             \u001b[0;32melse\u001b[0m\u001b[0;34m:\u001b[0m\u001b[0;34m\u001b[0m\u001b[0m\n\u001b[1;32m    182\u001b[0m                 \u001b[0mcache_content\u001b[0m \u001b[0;34m=\u001b[0m \u001b[0mFalse\u001b[0m\u001b[0;34m\u001b[0m\u001b[0m\n\u001b[0;32m--> 183\u001b[0;31m                 \u001b[0mdata\u001b[0m \u001b[0;34m=\u001b[0m \u001b[0mself\u001b[0m\u001b[0;34m.\u001b[0m\u001b[0m_fp\u001b[0m\u001b[0;34m.\u001b[0m\u001b[0mread\u001b[0m\u001b[0;34m(\u001b[0m\u001b[0mamt\u001b[0m\u001b[0;34m)\u001b[0m\u001b[0;34m\u001b[0m\u001b[0m\n\u001b[0m\u001b[1;32m    184\u001b[0m                 \u001b[0;32mif\u001b[0m \u001b[0mamt\u001b[0m \u001b[0;34m!=\u001b[0m \u001b[0;36m0\u001b[0m \u001b[0;32mand\u001b[0m \u001b[0;32mnot\u001b[0m \u001b[0mdata\u001b[0m\u001b[0;34m:\u001b[0m  \u001b[0;31m# Platform-specific: Buggy versions of Python.\u001b[0m\u001b[0;34m\u001b[0m\u001b[0m\n\u001b[1;32m    185\u001b[0m                     \u001b[0;31m# Close the connection when no data is returned\u001b[0m\u001b[0;34m\u001b[0m\u001b[0;34m\u001b[0m\u001b[0m\n",
      "\u001b[0;32m/System/Library/Frameworks/Python.framework/Versions/2.7/lib/python2.7/httplib.pyc\u001b[0m in \u001b[0;36mread\u001b[0;34m(self, amt)\u001b[0m\n\u001b[1;32m    586\u001b[0m \u001b[0;34m\u001b[0m\u001b[0m\n\u001b[1;32m    587\u001b[0m         \u001b[0;32mif\u001b[0m \u001b[0mself\u001b[0m\u001b[0;34m.\u001b[0m\u001b[0mchunked\u001b[0m\u001b[0;34m:\u001b[0m\u001b[0;34m\u001b[0m\u001b[0m\n\u001b[0;32m--> 588\u001b[0;31m             \u001b[0;32mreturn\u001b[0m \u001b[0mself\u001b[0m\u001b[0;34m.\u001b[0m\u001b[0m_read_chunked\u001b[0m\u001b[0;34m(\u001b[0m\u001b[0mamt\u001b[0m\u001b[0;34m)\u001b[0m\u001b[0;34m\u001b[0m\u001b[0m\n\u001b[0m\u001b[1;32m    589\u001b[0m \u001b[0;34m\u001b[0m\u001b[0m\n\u001b[1;32m    590\u001b[0m         \u001b[0;32mif\u001b[0m \u001b[0mamt\u001b[0m \u001b[0;32mis\u001b[0m \u001b[0mNone\u001b[0m\u001b[0;34m:\u001b[0m\u001b[0;34m\u001b[0m\u001b[0m\n",
      "\u001b[0;32m/System/Library/Frameworks/Python.framework/Versions/2.7/lib/python2.7/httplib.pyc\u001b[0m in \u001b[0;36m_read_chunked\u001b[0;34m(self, amt)\u001b[0m\n\u001b[1;32m    628\u001b[0m         \u001b[0;32mwhile\u001b[0m \u001b[0mTrue\u001b[0m\u001b[0;34m:\u001b[0m\u001b[0;34m\u001b[0m\u001b[0m\n\u001b[1;32m    629\u001b[0m             \u001b[0;32mif\u001b[0m \u001b[0mchunk_left\u001b[0m \u001b[0;32mis\u001b[0m \u001b[0mNone\u001b[0m\u001b[0;34m:\u001b[0m\u001b[0;34m\u001b[0m\u001b[0m\n\u001b[0;32m--> 630\u001b[0;31m                 \u001b[0mline\u001b[0m \u001b[0;34m=\u001b[0m \u001b[0mself\u001b[0m\u001b[0;34m.\u001b[0m\u001b[0mfp\u001b[0m\u001b[0;34m.\u001b[0m\u001b[0mreadline\u001b[0m\u001b[0;34m(\u001b[0m\u001b[0m_MAXLINE\u001b[0m \u001b[0;34m+\u001b[0m \u001b[0;36m1\u001b[0m\u001b[0;34m)\u001b[0m\u001b[0;34m\u001b[0m\u001b[0m\n\u001b[0m\u001b[1;32m    631\u001b[0m                 \u001b[0;32mif\u001b[0m \u001b[0mlen\u001b[0m\u001b[0;34m(\u001b[0m\u001b[0mline\u001b[0m\u001b[0;34m)\u001b[0m \u001b[0;34m>\u001b[0m \u001b[0m_MAXLINE\u001b[0m\u001b[0;34m:\u001b[0m\u001b[0;34m\u001b[0m\u001b[0m\n\u001b[1;32m    632\u001b[0m                     \u001b[0;32mraise\u001b[0m \u001b[0mLineTooLong\u001b[0m\u001b[0;34m(\u001b[0m\u001b[0;34m\"chunk size\"\u001b[0m\u001b[0;34m)\u001b[0m\u001b[0;34m\u001b[0m\u001b[0m\n",
      "\u001b[0;32m/System/Library/Frameworks/Python.framework/Versions/2.7/lib/python2.7/socket.pyc\u001b[0m in \u001b[0;36mreadline\u001b[0;34m(self, size)\u001b[0m\n\u001b[1;32m    478\u001b[0m             \u001b[0;32mwhile\u001b[0m \u001b[0mTrue\u001b[0m\u001b[0;34m:\u001b[0m\u001b[0;34m\u001b[0m\u001b[0m\n\u001b[1;32m    479\u001b[0m                 \u001b[0;32mtry\u001b[0m\u001b[0;34m:\u001b[0m\u001b[0;34m\u001b[0m\u001b[0m\n\u001b[0;32m--> 480\u001b[0;31m                     \u001b[0mdata\u001b[0m \u001b[0;34m=\u001b[0m \u001b[0mself\u001b[0m\u001b[0;34m.\u001b[0m\u001b[0m_sock\u001b[0m\u001b[0;34m.\u001b[0m\u001b[0mrecv\u001b[0m\u001b[0;34m(\u001b[0m\u001b[0mself\u001b[0m\u001b[0;34m.\u001b[0m\u001b[0m_rbufsize\u001b[0m\u001b[0;34m)\u001b[0m\u001b[0;34m\u001b[0m\u001b[0m\n\u001b[0m\u001b[1;32m    481\u001b[0m                 \u001b[0;32mexcept\u001b[0m \u001b[0merror\u001b[0m\u001b[0;34m,\u001b[0m \u001b[0me\u001b[0m\u001b[0;34m:\u001b[0m\u001b[0;34m\u001b[0m\u001b[0m\n\u001b[1;32m    482\u001b[0m                     \u001b[0;32mif\u001b[0m \u001b[0me\u001b[0m\u001b[0;34m.\u001b[0m\u001b[0margs\u001b[0m\u001b[0;34m[\u001b[0m\u001b[0;36m0\u001b[0m\u001b[0;34m]\u001b[0m \u001b[0;34m==\u001b[0m \u001b[0mEINTR\u001b[0m\u001b[0;34m:\u001b[0m\u001b[0;34m\u001b[0m\u001b[0m\n",
      "\u001b[0;32m/System/Library/Frameworks/Python.framework/Versions/2.7/lib/python2.7/ssl.pyc\u001b[0m in \u001b[0;36mrecv\u001b[0;34m(self, buflen, flags)\u001b[0m\n\u001b[1;32m    732\u001b[0m                     \u001b[0;34m\"non-zero flags not allowed in calls to recv() on %s\"\u001b[0m \u001b[0;34m%\u001b[0m\u001b[0;34m\u001b[0m\u001b[0m\n\u001b[1;32m    733\u001b[0m                     self.__class__)\n\u001b[0;32m--> 734\u001b[0;31m             \u001b[0;32mreturn\u001b[0m \u001b[0mself\u001b[0m\u001b[0;34m.\u001b[0m\u001b[0mread\u001b[0m\u001b[0;34m(\u001b[0m\u001b[0mbuflen\u001b[0m\u001b[0;34m)\u001b[0m\u001b[0;34m\u001b[0m\u001b[0m\n\u001b[0m\u001b[1;32m    735\u001b[0m         \u001b[0;32melse\u001b[0m\u001b[0;34m:\u001b[0m\u001b[0;34m\u001b[0m\u001b[0m\n\u001b[1;32m    736\u001b[0m             \u001b[0;32mreturn\u001b[0m \u001b[0mself\u001b[0m\u001b[0;34m.\u001b[0m\u001b[0m_sock\u001b[0m\u001b[0;34m.\u001b[0m\u001b[0mrecv\u001b[0m\u001b[0;34m(\u001b[0m\u001b[0mbuflen\u001b[0m\u001b[0;34m,\u001b[0m \u001b[0mflags\u001b[0m\u001b[0;34m)\u001b[0m\u001b[0;34m\u001b[0m\u001b[0m\n",
      "\u001b[0;32m/System/Library/Frameworks/Python.framework/Versions/2.7/lib/python2.7/ssl.pyc\u001b[0m in \u001b[0;36mread\u001b[0;34m(self, len, buffer)\u001b[0m\n\u001b[1;32m    619\u001b[0m                 \u001b[0mv\u001b[0m \u001b[0;34m=\u001b[0m \u001b[0mself\u001b[0m\u001b[0;34m.\u001b[0m\u001b[0m_sslobj\u001b[0m\u001b[0;34m.\u001b[0m\u001b[0mread\u001b[0m\u001b[0;34m(\u001b[0m\u001b[0mlen\u001b[0m\u001b[0;34m,\u001b[0m \u001b[0mbuffer\u001b[0m\u001b[0;34m)\u001b[0m\u001b[0;34m\u001b[0m\u001b[0m\n\u001b[1;32m    620\u001b[0m             \u001b[0;32melse\u001b[0m\u001b[0;34m:\u001b[0m\u001b[0;34m\u001b[0m\u001b[0m\n\u001b[0;32m--> 621\u001b[0;31m                 \u001b[0mv\u001b[0m \u001b[0;34m=\u001b[0m \u001b[0mself\u001b[0m\u001b[0;34m.\u001b[0m\u001b[0m_sslobj\u001b[0m\u001b[0;34m.\u001b[0m\u001b[0mread\u001b[0m\u001b[0;34m(\u001b[0m\u001b[0mlen\u001b[0m \u001b[0;32mor\u001b[0m \u001b[0;36m1024\u001b[0m\u001b[0;34m)\u001b[0m\u001b[0;34m\u001b[0m\u001b[0m\n\u001b[0m\u001b[1;32m    622\u001b[0m             \u001b[0;32mreturn\u001b[0m \u001b[0mv\u001b[0m\u001b[0;34m\u001b[0m\u001b[0m\n\u001b[1;32m    623\u001b[0m         \u001b[0;32mexcept\u001b[0m \u001b[0mSSLError\u001b[0m \u001b[0;32mas\u001b[0m \u001b[0mx\u001b[0m\u001b[0;34m:\u001b[0m\u001b[0;34m\u001b[0m\u001b[0m\n",
      "\u001b[0;31mKeyboardInterrupt\u001b[0m: "
     ]
    }
   ],
   "source": [
    "'''\n",
    "THE BELOW CODE IS OPTIONAl\n",
    "It creates a stream of a given tag!\n",
    "'''\n",
    "\n",
    "# This is the listener, resposible for receiving data\n",
    "# I will not be covering this in class\n",
    "class StdOutListener(tweepy.StreamListener):\n",
    "    def on_data(self, data):\n",
    "        # Twitter returns data in JSON format - we need to decode it first\n",
    "        decoded = json.loads(data)\n",
    "        #print decoded\n",
    "        time_ =  time.strftime('%Y-%m-%d %H:%M:%S', time.localtime(int(decoded['timestamp_ms']) / 1000))\n",
    "        handle = decoded['user']['screen_name']\n",
    "        tweet_text = decoded['text'].encode('ascii', 'ignore')\n",
    "        num_followers = int(decoded['user']['followers_count'])\n",
    "        # Also, we convert UTF-8 to ASCII ignoring all bad characters sent by users\n",
    "        print '@%s at %s: %s with %d followers' % (handle, time_, tweet_text, num_followers)\n",
    "        print ''\n",
    "        return True\n",
    "    def on_error(self, status):\n",
    "        print status\n",
    "def begin_live_feed(tags_to_follow):\n",
    "    print \"beginning live feed....\"\n",
    "    l = StdOutListener()\n",
    "    auth = tweepy.OAuthHandler(api_key, api_secret)\n",
    "    auth.set_access_token(access_token, access_secret)\n",
    "    stream = tweepy.Stream(auth, l)\n",
    "    stream.filter(track=tags_to_follow)\n",
    "\n",
    "begin_live_feed(['#rogueone', 'starbucks'])\n",
    "# this is an example use, if you create a list of words and phrases, \n",
    "# a live stream of tweets about them will show up\n",
    "\n",
    "# INTERUPT THE KERNEL TO STOP THE MADNESS"
   ]
  },
  {
   "cell_type": "code",
   "execution_count": 40,
   "metadata": {
    "collapsed": false
   },
   "outputs": [
    {
     "data": {
      "text/plain": [
       "'\\nOther considerations when accessing APIs:\\n- Most APIs require you to have an access key (which you should store outside your code)\\n- Most APIs limit the number of API calls you can make (per day, hour, minute, etc.)\\n- Not all APIs are free\\n- Not all APIs are well-documented\\n- Pay attention to the API version\\n\\nPython wrapper is another option for accessing an API:\\n- Set of functions that \"wrap\" the API code for ease of use\\n- Potentially simplifies your code\\n- But, wrapper could have bugs or be out-of-date or poorly documented\\n'"
      ]
     },
     "execution_count": 40,
     "metadata": {},
     "output_type": "execute_result"
    }
   ],
   "source": [
    "'''\n",
    "Other considerations when accessing APIs:\n",
    "- Most APIs require you to have an access key (which you should store outside your code)\n",
    "- Most APIs limit the number of API calls you can make (per day, hour, minute, etc.)\n",
    "- Not all APIs are free\n",
    "- Not all APIs are well-documented\n",
    "- Pay attention to the API version\n",
    "\n",
    "Python wrapper is another option for accessing an API:\n",
    "- Set of functions that \"wrap\" the API code for ease of use\n",
    "- Potentially simplifies your code\n",
    "- But, wrapper could have bugs or be out-of-date or poorly documented\n",
    "'''"
   ]
  },
  {
   "cell_type": "code",
   "execution_count": 42,
   "metadata": {
    "collapsed": false
   },
   "outputs": [
    {
     "data": {
      "text/plain": [
       "u'https://www.facebook.com/login.php?skip_api_login=1&api_key=464891386855067&signed_next=1&next=https%3A%2F%2Fwww.facebook.com%2Fv2.0%2Fdialog%2Foauth%3Fredirect_uri%3Dhttps%253A%252F%252Fwww.facebook.com%252Fconnect%252Flogin_success.html%26scope%3Dbasic_info%252Cemail%252Cpublic_profile%252Cuser_about_me%252Cuser_activities%252Cuser_birthday%252Cuser_education_history%252Cuser_friends%252Cuser_interests%252Cuser_likes%252Cuser_location%252Cuser_photos%252Cuser_relationship_details%26response_type%3Dtoken%26client_id%3D464891386855067%26ret%3Dlogin&cancel_url=https%3A%2F%2Fwww.facebook.com%2Fconnect%2Flogin_success.html%3Ferror%3Daccess_denied%26error_code%3D200%26error_description%3DPermissions%2Berror%26error_reason%3Duser_denied%23_%3D_&display=page&locale=en_US'"
      ]
     },
     "execution_count": 42,
     "metadata": {},
     "output_type": "execute_result"
    }
   ],
   "source": [
    "#### TINDER #####\n",
    "# https://gist.github.com/rtt/10403467\n",
    "\n",
    "link = 'https://www.facebook.com/dialog/oauth?client_id=464891386855067&redirect_uri=https://www.facebook.com/connect/login_success.html&scope=basic_info,email,public_profile,user_about_me,user_activities,user_birthday,user_education_history,user_friends,user_interests,user_likes,user_location,user_photos,user_relationship_details&response_type=token'\n",
    "token_req = requests.get(link, allow_redirects = True)\n",
    "token_req.headers\n",
    "token_req.url"
   ]
  },
  {
   "cell_type": "code",
   "execution_count": null,
   "metadata": {
    "collapsed": false
   },
   "outputs": [],
   "source": []
  },
  {
   "cell_type": "code",
   "execution_count": 43,
   "metadata": {
    "collapsed": true
   },
   "outputs": [],
   "source": [
    "token = 'EAAGm0PX4ZCpsBAEPhbX0HUZCc095HjwZAMB630ClGGc7FRDaXrZCLyZBReaF8bEvJCITPcx6ZAZAHysG4DLLNEBLafiabCYZARMyY020dwPa7qYq9WJZCGbZC8SETdkGcTuy2NXqecfk2j0Hla6RX2ZACUeRCX8P9CcOOBCitKI8DSZA3BKZAaaXuZAKHj'"
   ]
  },
  {
   "cell_type": "code",
   "execution_count": 44,
   "metadata": {
    "collapsed": true
   },
   "outputs": [],
   "source": [
    "facebbok_id = '1342020603'"
   ]
  },
  {
   "cell_type": "code",
   "execution_count": 45,
   "metadata": {
    "collapsed": true
   },
   "outputs": [],
   "source": [
    "r = requests.post('https://api.gotinder.com/auth',\n",
    "                  data = {\n",
    "                  'facebook_token':token,\n",
    "                  'facebook_id':facebbok_id}\n",
    "                  )"
   ]
  },
  {
   "cell_type": "code",
   "execution_count": 46,
   "metadata": {
    "collapsed": false
   },
   "outputs": [
    {
     "data": {
      "text/plain": [
       "200"
      ]
     },
     "execution_count": 46,
     "metadata": {},
     "output_type": "execute_result"
    }
   ],
   "source": [
    "r.status_code"
   ]
  },
  {
   "cell_type": "code",
   "execution_count": 47,
   "metadata": {
    "collapsed": false
   },
   "outputs": [],
   "source": [
    "j = r.json()"
   ]
  },
  {
   "cell_type": "code",
   "execution_count": 48,
   "metadata": {
    "collapsed": true
   },
   "outputs": [],
   "source": [
    "h = {'X-Auth-Token': j['token']}"
   ]
  },
  {
   "cell_type": "code",
   "execution_count": 49,
   "metadata": {
    "collapsed": false
   },
   "outputs": [],
   "source": [
    "recs = requests.get('https://api.gotinder.com/user/recs', headers = h)\n",
    "matches = recs.json()\n"
   ]
  },
  {
   "cell_type": "code",
   "execution_count": 50,
   "metadata": {
    "collapsed": false
   },
   "outputs": [
    {
     "data": {
      "text/plain": [
       "{u'_id': u'56dd03b223701bcc5c132e83',\n",
       " u'badges': [],\n",
       " u'bio': u'I\\u2019m not really single, I\\u2019m dating myself. I take me out to eat, I buy me clothes. I love me.\\n\\U0001f1e7\\U0001f1f7\\U0001f341\\U0001f46f\\U0001f47d\\U0001f480\\nFOR THE LOVE OF GOD DO NOT JUST SEND ME \"Hey\". \\nI\\'ll hate you for it :/\\n',\n",
       " u'birth_date': u'1994-03-09T00:00:00.000Z',\n",
       " u'birth_date_info': u'fuzzy birthdate active, not displaying real birth_date',\n",
       " u'common_friend_count': 0,\n",
       " u'common_friends': [],\n",
       " u'common_interests': [],\n",
       " u'common_like_count': 0,\n",
       " u'common_likes': [],\n",
       " u'connection_count': 81,\n",
       " u'distance_mi': 12,\n",
       " u'gender': 1,\n",
       " u'jobs': [],\n",
       " u'name': u'Sarah',\n",
       " u'photos': [{u'id': u'f6a6c9bb-41f9-4705-aab5-5fd0d666cb5a',\n",
       "   u'processedFiles': [{u'height': 640,\n",
       "     u'url': u'http://images.gotinder.com/56dd03b223701bcc5c132e83/640x640_f6a6c9bb-41f9-4705-aab5-5fd0d666cb5a.jpg',\n",
       "     u'width': 640},\n",
       "    {u'height': 320,\n",
       "     u'url': u'http://images.gotinder.com/56dd03b223701bcc5c132e83/320x320_f6a6c9bb-41f9-4705-aab5-5fd0d666cb5a.jpg',\n",
       "     u'width': 320},\n",
       "    {u'height': 172,\n",
       "     u'url': u'http://images.gotinder.com/56dd03b223701bcc5c132e83/172x172_f6a6c9bb-41f9-4705-aab5-5fd0d666cb5a.jpg',\n",
       "     u'width': 172},\n",
       "    {u'height': 84,\n",
       "     u'url': u'http://images.gotinder.com/56dd03b223701bcc5c132e83/84x84_f6a6c9bb-41f9-4705-aab5-5fd0d666cb5a.jpg',\n",
       "     u'width': 84}],\n",
       "   u'url': u'http://images.gotinder.com/56dd03b223701bcc5c132e83/f6a6c9bb-41f9-4705-aab5-5fd0d666cb5a.jpg'},\n",
       "  {u'id': u'632166e4-9776-49b7-8cbf-b9abf9176eee',\n",
       "   u'processedFiles': [{u'height': 640,\n",
       "     u'url': u'http://images.gotinder.com/56dd03b223701bcc5c132e83/640x640_632166e4-9776-49b7-8cbf-b9abf9176eee.jpg',\n",
       "     u'width': 640},\n",
       "    {u'height': 320,\n",
       "     u'url': u'http://images.gotinder.com/56dd03b223701bcc5c132e83/320x320_632166e4-9776-49b7-8cbf-b9abf9176eee.jpg',\n",
       "     u'width': 320},\n",
       "    {u'height': 172,\n",
       "     u'url': u'http://images.gotinder.com/56dd03b223701bcc5c132e83/172x172_632166e4-9776-49b7-8cbf-b9abf9176eee.jpg',\n",
       "     u'width': 172},\n",
       "    {u'height': 84,\n",
       "     u'url': u'http://images.gotinder.com/56dd03b223701bcc5c132e83/84x84_632166e4-9776-49b7-8cbf-b9abf9176eee.jpg',\n",
       "     u'width': 84}],\n",
       "   u'url': u'http://images.gotinder.com/56dd03b223701bcc5c132e83/632166e4-9776-49b7-8cbf-b9abf9176eee.jpg'},\n",
       "  {u'id': u'f5a13808-99d9-4928-b483-17138b54c84c',\n",
       "   u'processedFiles': [{u'height': 640,\n",
       "     u'url': u'http://images.gotinder.com/56dd03b223701bcc5c132e83/640x640_f5a13808-99d9-4928-b483-17138b54c84c.jpg',\n",
       "     u'width': 640},\n",
       "    {u'height': 320,\n",
       "     u'url': u'http://images.gotinder.com/56dd03b223701bcc5c132e83/320x320_f5a13808-99d9-4928-b483-17138b54c84c.jpg',\n",
       "     u'width': 320},\n",
       "    {u'height': 172,\n",
       "     u'url': u'http://images.gotinder.com/56dd03b223701bcc5c132e83/172x172_f5a13808-99d9-4928-b483-17138b54c84c.jpg',\n",
       "     u'width': 172},\n",
       "    {u'height': 84,\n",
       "     u'url': u'http://images.gotinder.com/56dd03b223701bcc5c132e83/84x84_f5a13808-99d9-4928-b483-17138b54c84c.jpg',\n",
       "     u'width': 84}],\n",
       "   u'url': u'http://images.gotinder.com/56dd03b223701bcc5c132e83/f5a13808-99d9-4928-b483-17138b54c84c.jpg'},\n",
       "  {u'id': u'b2ebf19d-d454-46c6-8fb0-8ec7259a0c27',\n",
       "   u'processedFiles': [{u'height': 640,\n",
       "     u'url': u'http://images.gotinder.com/56dd03b223701bcc5c132e83/640x640_b2ebf19d-d454-46c6-8fb0-8ec7259a0c27.jpg',\n",
       "     u'width': 640},\n",
       "    {u'height': 320,\n",
       "     u'url': u'http://images.gotinder.com/56dd03b223701bcc5c132e83/320x320_b2ebf19d-d454-46c6-8fb0-8ec7259a0c27.jpg',\n",
       "     u'width': 320},\n",
       "    {u'height': 172,\n",
       "     u'url': u'http://images.gotinder.com/56dd03b223701bcc5c132e83/172x172_b2ebf19d-d454-46c6-8fb0-8ec7259a0c27.jpg',\n",
       "     u'width': 172},\n",
       "    {u'height': 84,\n",
       "     u'url': u'http://images.gotinder.com/56dd03b223701bcc5c132e83/84x84_b2ebf19d-d454-46c6-8fb0-8ec7259a0c27.jpg',\n",
       "     u'width': 84}],\n",
       "   u'url': u'http://images.gotinder.com/56dd03b223701bcc5c132e83/b2ebf19d-d454-46c6-8fb0-8ec7259a0c27.jpg'},\n",
       "  {u'id': u'bb6b469c-45c8-49ad-aa1b-167fbe6e186c',\n",
       "   u'processedFiles': [{u'height': 640,\n",
       "     u'url': u'http://images.gotinder.com/56dd03b223701bcc5c132e83/640x640_bb6b469c-45c8-49ad-aa1b-167fbe6e186c.jpg',\n",
       "     u'width': 640},\n",
       "    {u'height': 320,\n",
       "     u'url': u'http://images.gotinder.com/56dd03b223701bcc5c132e83/320x320_bb6b469c-45c8-49ad-aa1b-167fbe6e186c.jpg',\n",
       "     u'width': 320},\n",
       "    {u'height': 172,\n",
       "     u'url': u'http://images.gotinder.com/56dd03b223701bcc5c132e83/172x172_bb6b469c-45c8-49ad-aa1b-167fbe6e186c.jpg',\n",
       "     u'width': 172},\n",
       "    {u'height': 84,\n",
       "     u'url': u'http://images.gotinder.com/56dd03b223701bcc5c132e83/84x84_bb6b469c-45c8-49ad-aa1b-167fbe6e186c.jpg',\n",
       "     u'width': 84}],\n",
       "   u'url': u'http://images.gotinder.com/56dd03b223701bcc5c132e83/bb6b469c-45c8-49ad-aa1b-167fbe6e186c.jpg'}],\n",
       " u'ping_time': u'2016-04-07T15:37:43.436Z',\n",
       " u'schools': [{u'id': u'10111634660', u'name': u'UC Berkeley'}],\n",
       " u'teaser': {u'string': u'UC Berkeley', u'type': u'school'},\n",
       " u'uncommon_interests': []}"
      ]
     },
     "execution_count": 50,
     "metadata": {},
     "output_type": "execute_result"
    }
   ],
   "source": [
    "first_match = matches['results'][0]\n",
    "first_match"
   ]
  },
  {
   "cell_type": "code",
   "execution_count": 52,
   "metadata": {
    "collapsed": false
   },
   "outputs": [
    {
     "name": "stdout",
     "output_type": "stream",
     "text": [
      "I’m not really single, I’m dating myself. I take me out to eat, I buy me clothes. I love me.\n",
      "🇧🇷🍁👯👽💀\n",
      "FOR THE LOVE OF GOD DO NOT JUST SEND ME \"Hey\". \n",
      "I'll hate you for it :/\n",
      "\n",
      "1994-03-09T00:00:00.000Z\n",
      "[]\n",
      "1\n",
      "Sarah\n",
      "http://images.gotinder.com/56dd03b223701bcc5c132e83/640x640_f6a6c9bb-41f9-4705-aab5-5fd0d666cb5a.jpg\n"
     ]
    }
   ],
   "source": [
    "print first_match['bio']\n",
    "print first_match['birth_date']\n",
    "print first_match['common_likes']\n",
    "print first_match['gender']\n",
    "print first_match['name']\n",
    "print first_match['photos'][0]['processedFiles'][0]['url']"
   ]
  },
  {
   "cell_type": "code",
   "execution_count": null,
   "metadata": {
    "collapsed": true
   },
   "outputs": [],
   "source": []
  }
 ],
 "metadata": {
  "kernelspec": {
   "display_name": "Python 2",
   "language": "python",
   "name": "python2"
  },
  "language_info": {
   "codemirror_mode": {
    "name": "ipython",
    "version": 2
   },
   "file_extension": ".py",
   "mimetype": "text/x-python",
   "name": "python",
   "nbconvert_exporter": "python",
   "pygments_lexer": "ipython2",
   "version": "2.7.11"
  }
 },
 "nbformat": 4,
 "nbformat_minor": 0
}
