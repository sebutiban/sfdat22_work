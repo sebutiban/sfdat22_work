{
 "cells": [
  {
   "cell_type": "code",
   "execution_count": 1,
   "metadata": {
    "collapsed": false
   },
   "outputs": [],
   "source": [
    "import pandas as pd\n",
    "import numpy as np\n",
    "from sklearn.linear_model import LinearRegression\n",
    "from sklearn.cross_validation import train_test_split\n",
    "from sklearn import metrics\n",
    "import statsmodels.formula.api as smf\n",
    "\n",
    "# visualization\n",
    "\n",
    "import matplotlib.pyplot as plt\n",
    "%matplotlib inline"
   ]
  },
  {
   "cell_type": "code",
   "execution_count": 2,
   "metadata": {
    "collapsed": false
   },
   "outputs": [
    {
     "name": "stdout",
     "output_type": "stream",
     "text": [
      "Requirement already satisfied (use --upgrade to upgrade): seaborn in c:\\users\\sulaiman\\anaconda2\\lib\\site-packages\n"
     ]
    },
    {
     "name": "stderr",
     "output_type": "stream",
     "text": [
      "You are using pip version 8.0.2, however version 8.1.1 is available.\n",
      "You should consider upgrading via the 'python -m pip install --upgrade pip' command.\n"
     ]
    }
   ],
   "source": [
    "!pip install seaborn \n",
    "import seaborn as sns"
   ]
  },
  {
   "cell_type": "code",
   "execution_count": 21,
   "metadata": {
    "collapsed": false
   },
   "outputs": [
    {
     "data": {
      "text/html": [
       "<div>\n",
       "<table border=\"1\" class=\"dataframe\">\n",
       "  <thead>\n",
       "    <tr style=\"text-align: right;\">\n",
       "      <th></th>\n",
       "      <th>date</th>\n",
       "      <th>review_id</th>\n",
       "      <th>stars</th>\n",
       "      <th>text</th>\n",
       "      <th>type</th>\n",
       "      <th>user_id</th>\n",
       "      <th>cool</th>\n",
       "      <th>useful</th>\n",
       "      <th>funny</th>\n",
       "    </tr>\n",
       "    <tr>\n",
       "      <th>business_id</th>\n",
       "      <th></th>\n",
       "      <th></th>\n",
       "      <th></th>\n",
       "      <th></th>\n",
       "      <th></th>\n",
       "      <th></th>\n",
       "      <th></th>\n",
       "      <th></th>\n",
       "      <th></th>\n",
       "    </tr>\n",
       "  </thead>\n",
       "  <tbody>\n",
       "    <tr>\n",
       "      <th>9yKzy9PApeiPPOUJEtnvkg</th>\n",
       "      <td>2011-01-26</td>\n",
       "      <td>fWKvX83p0-ka4JS3dc6E5A</td>\n",
       "      <td>5</td>\n",
       "      <td>My wife took me here on my birthday for breakf...</td>\n",
       "      <td>review</td>\n",
       "      <td>rLtl8ZkDX5vH5nAx9C3q5Q</td>\n",
       "      <td>2</td>\n",
       "      <td>5</td>\n",
       "      <td>0</td>\n",
       "    </tr>\n",
       "    <tr>\n",
       "      <th>ZRJwVLyzEJq1VAihDhYiow</th>\n",
       "      <td>2011-07-27</td>\n",
       "      <td>IjZ33sJrzXqU-0X6U8NwyA</td>\n",
       "      <td>5</td>\n",
       "      <td>I have no idea why some people give bad review...</td>\n",
       "      <td>review</td>\n",
       "      <td>0a2KyEL0d3Yb1V6aivbIuQ</td>\n",
       "      <td>0</td>\n",
       "      <td>0</td>\n",
       "      <td>0</td>\n",
       "    </tr>\n",
       "    <tr>\n",
       "      <th>6oRAC4uyJCsJl1X0WZpVSA</th>\n",
       "      <td>2012-06-14</td>\n",
       "      <td>IESLBzqUCLdSzSqm0eCSxQ</td>\n",
       "      <td>4</td>\n",
       "      <td>love the gyro plate. Rice is so good and I als...</td>\n",
       "      <td>review</td>\n",
       "      <td>0hT2KtfLiobPvh6cDC8JQg</td>\n",
       "      <td>0</td>\n",
       "      <td>1</td>\n",
       "      <td>0</td>\n",
       "    </tr>\n",
       "    <tr>\n",
       "      <th>_1QQZuf4zZOyFCvXc0o6Vg</th>\n",
       "      <td>2010-05-27</td>\n",
       "      <td>G-WvGaISbqqaMHlNnByodA</td>\n",
       "      <td>5</td>\n",
       "      <td>Rosie, Dakota, and I LOVE Chaparral Dog Park!!...</td>\n",
       "      <td>review</td>\n",
       "      <td>uZetl9T0NcROGOyFfughhg</td>\n",
       "      <td>1</td>\n",
       "      <td>2</td>\n",
       "      <td>0</td>\n",
       "    </tr>\n",
       "    <tr>\n",
       "      <th>6ozycU1RpktNG2-1BroVtw</th>\n",
       "      <td>2012-01-05</td>\n",
       "      <td>1uJFq2r5QfJG_6ExMRCaGw</td>\n",
       "      <td>5</td>\n",
       "      <td>General Manager Scott Petello is a good egg!!!...</td>\n",
       "      <td>review</td>\n",
       "      <td>vYmM4KTsC8ZfQBg-j5MWkw</td>\n",
       "      <td>0</td>\n",
       "      <td>0</td>\n",
       "      <td>0</td>\n",
       "    </tr>\n",
       "  </tbody>\n",
       "</table>\n",
       "</div>"
      ],
      "text/plain": [
       "                              date               review_id  stars  \\\n",
       "business_id                                                         \n",
       "9yKzy9PApeiPPOUJEtnvkg  2011-01-26  fWKvX83p0-ka4JS3dc6E5A      5   \n",
       "ZRJwVLyzEJq1VAihDhYiow  2011-07-27  IjZ33sJrzXqU-0X6U8NwyA      5   \n",
       "6oRAC4uyJCsJl1X0WZpVSA  2012-06-14  IESLBzqUCLdSzSqm0eCSxQ      4   \n",
       "_1QQZuf4zZOyFCvXc0o6Vg  2010-05-27  G-WvGaISbqqaMHlNnByodA      5   \n",
       "6ozycU1RpktNG2-1BroVtw  2012-01-05  1uJFq2r5QfJG_6ExMRCaGw      5   \n",
       "\n",
       "                                                                     text  \\\n",
       "business_id                                                                 \n",
       "9yKzy9PApeiPPOUJEtnvkg  My wife took me here on my birthday for breakf...   \n",
       "ZRJwVLyzEJq1VAihDhYiow  I have no idea why some people give bad review...   \n",
       "6oRAC4uyJCsJl1X0WZpVSA  love the gyro plate. Rice is so good and I als...   \n",
       "_1QQZuf4zZOyFCvXc0o6Vg  Rosie, Dakota, and I LOVE Chaparral Dog Park!!...   \n",
       "6ozycU1RpktNG2-1BroVtw  General Manager Scott Petello is a good egg!!!...   \n",
       "\n",
       "                          type                 user_id  cool  useful  funny  \n",
       "business_id                                                                  \n",
       "9yKzy9PApeiPPOUJEtnvkg  review  rLtl8ZkDX5vH5nAx9C3q5Q     2       5      0  \n",
       "ZRJwVLyzEJq1VAihDhYiow  review  0a2KyEL0d3Yb1V6aivbIuQ     0       0      0  \n",
       "6oRAC4uyJCsJl1X0WZpVSA  review  0hT2KtfLiobPvh6cDC8JQg     0       1      0  \n",
       "_1QQZuf4zZOyFCvXc0o6Vg  review  uZetl9T0NcROGOyFfughhg     1       2      0  \n",
       "6ozycU1RpktNG2-1BroVtw  review  vYmM4KTsC8ZfQBg-j5MWkw     0       0      0  "
      ]
     },
     "execution_count": 21,
     "metadata": {},
     "output_type": "execute_result"
    }
   ],
   "source": [
    "# Read `yelp.csv` into a DataFrame\n",
    "df = pd.read_csv('data/yelp.csv', index_col=0)\n",
    "df.head()"
   ]
  },
  {
   "cell_type": "code",
   "execution_count": 4,
   "metadata": {
    "collapsed": false
   },
   "outputs": [
    {
     "data": {
      "text/plain": [
       "<seaborn.axisgrid.PairGrid at 0xa7ab780>"
      ]
     },
     "execution_count": 4,
     "metadata": {},
     "output_type": "execute_result"
    },
    {
     "data": {
      "image/png": "[encoded data removed]",
      "text/plain": [
       "<matplotlib.figure.Figure at 0xa7f6828>"
      ]
     },
     "metadata": {},
     "output_type": "display_data"
    }
   ],
   "source": [
    "#Explore the relationship between each of the vote types (cool/useful/funny) and the number of stars\n",
    "\n",
    "# Plot a scatter plot and  include a \"regression line\"\n",
    "sns.pairplot(df, x_vars=['cool','useful','funny'], y_vars='stars', size=6, aspect=0.7, kind='reg')\n"
   ]
  },
  {
   "cell_type": "code",
   "execution_count": 20,
   "metadata": {
    "collapsed": false
   },
   "outputs": [],
   "source": [
    "#Define cool/useful/funny as the features, and stars as the response.\n",
    "\n",
    "\n",
    "# create X and y\n",
    "feature_cols = ['cool','useful','funny']\n",
    "X = df[feature_cols]\n",
    "y = df.stars\n",
    "\n"
   ]
  },
  {
   "cell_type": "code",
   "execution_count": 10,
   "metadata": {
    "collapsed": false
   },
   "outputs": [
    {
     "name": "stdout",
     "output_type": "stream",
     "text": [
      "3.83989479278\n",
      "[ 0.27435947 -0.14745239 -0.13567449]\n"
     ]
    }
   ],
   "source": [
    "#Fit a linear regression model and interpret the coefficients. Do the coefficients make intuitive sense to you? \n",
    "#Explore the Yelp website to see if you detect similar trends.\n",
    "# instantiate and fit\n",
    "linreg = LinearRegression()\n",
    "linreg.fit(X, y)\n",
    "\n",
    "# print the coefficients\n",
    "print linreg.intercept_\n",
    "print linreg.coef_\n"
   ]
  },
  {
   "cell_type": "code",
   "execution_count": 39,
   "metadata": {
    "collapsed": false
   },
   "outputs": [
    {
     "ename": "TypeError",
     "evalue": "from_formula() takes at least 3 arguments (2 given)",
     "output_type": "error",
     "traceback": [
      "\u001b[1;31m---------------------------------------------------------------------------\u001b[0m",
      "\u001b[1;31mTypeError\u001b[0m                                 Traceback (most recent call last)",
      "\u001b[1;32m<ipython-input-39-3afeba4006a2>\u001b[0m in \u001b[0;36m<module>\u001b[1;34m()\u001b[0m\n\u001b[0;32m      6\u001b[0m \u001b[1;33m\u001b[0m\u001b[0m\n\u001b[0;32m      7\u001b[0m \u001b[1;31m# create a fitted model\u001b[0m\u001b[1;33m\u001b[0m\u001b[1;33m\u001b[0m\u001b[0m\n\u001b[1;32m----> 8\u001b[1;33m \u001b[0mlm\u001b[0m \u001b[1;33m=\u001b[0m \u001b[0msmf\u001b[0m\u001b[1;33m.\u001b[0m\u001b[0mols\u001b[0m\u001b[1;33m(\u001b[0m\u001b[0mformula\u001b[0m\u001b[1;33m=\u001b[0m\u001b[1;34m'stars ~ cool'\u001b[0m\u001b[1;33m,\u001b[0m \u001b[0mdf\u001b[0m\u001b[1;33m=\u001b[0m\u001b[0mdf\u001b[0m\u001b[1;33m)\u001b[0m\u001b[1;33m.\u001b[0m\u001b[0mfit\u001b[0m\u001b[1;33m(\u001b[0m\u001b[1;33m)\u001b[0m\u001b[1;33m\u001b[0m\u001b[0m\n\u001b[0m\u001b[0;32m      9\u001b[0m \u001b[1;33m\u001b[0m\u001b[0m\n\u001b[0;32m     10\u001b[0m \u001b[1;31m# print the coefficients\u001b[0m\u001b[1;33m\u001b[0m\u001b[1;33m\u001b[0m\u001b[0m\n",
      "\u001b[1;31mTypeError\u001b[0m: from_formula() takes at least 3 arguments (2 given)"
     ]
    }
   ],
   "source": [
    "#Fit a linear regression model and interpret the coefficients. \n",
    "\n",
    "\n",
    "\n",
    "### Using  STATSMODELS ###\n",
    "\n",
    "# create a fitted model\n",
    "lm = smf.ols(formula='stars ~ cool', df=df).fit()\n",
    "\n",
    "# print the coefficients\n",
    "lm.params\n",
    "\n",
    "#print r-Squared\n",
    "lm.rsquared\n",
    "\n",
    "\n",
    "#Do the coefficients make intuitive sense to you? \n"
   ]
  },
  {
   "cell_type": "code",
   "execution_count": 12,
   "metadata": {
    "collapsed": false
   },
   "outputs": [
    {
     "data": {
      "text/plain": [
       "[('cool', 0.27435946858853061),\n",
       " ('useful', -0.14745239099401478),\n",
       " ('funny', -0.13567449053706179)]"
      ]
     },
     "execution_count": 12,
     "metadata": {},
     "output_type": "execute_result"
    }
   ],
   "source": [
    "# pair the feature names with the coefficients\n",
    "zip(feature_cols, linreg.coef_)\n"
   ]
  },
  {
   "cell_type": "code",
   "execution_count": 13,
   "metadata": {
    "collapsed": false
   },
   "outputs": [
    {
     "name": "stdout",
     "output_type": "stream",
     "text": [
      "0.044272856242\n"
     ]
    }
   ],
   "source": [
    "\n",
    "### SCIKIT-LEARN ###\n",
    "\n",
    "# calculate the R-squared value for the model\n",
    "\n",
    "y_pred = linreg.predict(X)\n",
    "R_squared = metrics.r2_score(y, y_pred)\n",
    "\n",
    "print R_squared"
   ]
  },
  {
   "cell_type": "code",
   "execution_count": 14,
   "metadata": {
    "collapsed": false
   },
   "outputs": [],
   "source": [
    "#Evaluate the model by splitting it into training and testing sets and computing the RMSE.\n",
    "\n",
    "#Does the RMSE make intuitive sense to you?\n",
    "\n",
    "# define a function that accepts X and y and computes testing RMSE\n",
    "def train_test_rmse(X, y):\n",
    "    \n",
    "    X_train, X_test, y_train, y_test = train_test_split(X, y, random_state=1)\n",
    "    linreg = LinearRegression()\n",
    "    linreg.fit(X_train, y_train)\n",
    "    y_pred = linreg.predict(X_test)\n",
    "    return np.sqrt(metrics.mean_squared_error(y_test, y_pred))\n"
   ]
  },
  {
   "cell_type": "code",
   "execution_count": 15,
   "metadata": {
    "collapsed": false
   },
   "outputs": [
    {
     "data": {
      "text/plain": [
       "1.184290528216591"
      ]
     },
     "execution_count": 15,
     "metadata": {},
     "output_type": "execute_result"
    }
   ],
   "source": [
    "feature_cols = ['cool','useful','funny']\n",
    "X = df[feature_cols]\n",
    "train_test_rmse(X, y)"
   ]
  },
  {
   "cell_type": "code",
   "execution_count": 16,
   "metadata": {
    "collapsed": false
   },
   "outputs": [
    {
     "data": {
      "text/plain": [
       "1.1962390876092979"
      ]
     },
     "execution_count": 16,
     "metadata": {},
     "output_type": "execute_result"
    }
   ],
   "source": [
    "feature_cols = ['cool','useful']\n",
    "X = df[feature_cols]\n",
    "train_test_rmse(X, y)"
   ]
  },
  {
   "cell_type": "code",
   "execution_count": 17,
   "metadata": {
    "collapsed": false
   },
   "outputs": [
    {
     "data": {
      "text/plain": [
       "1.2098272023900722"
      ]
     },
     "execution_count": 17,
     "metadata": {},
     "output_type": "execute_result"
    }
   ],
   "source": [
    "feature_cols = ['useful','funny']\n",
    "X = df[feature_cols]\n",
    "train_test_rmse(X, y)"
   ]
  },
  {
   "cell_type": "code",
   "execution_count": 18,
   "metadata": {
    "collapsed": false
   },
   "outputs": [
    {
     "data": {
      "text/plain": [
       "1.1942673256493732"
      ]
     },
     "execution_count": 18,
     "metadata": {},
     "output_type": "execute_result"
    }
   ],
   "source": [
    "feature_cols = ['cool','funny']\n",
    "X = df[feature_cols]\n",
    "train_test_rmse(X, y)"
   ]
  },
  {
   "cell_type": "code",
   "execution_count": 19,
   "metadata": {
    "collapsed": false
   },
   "outputs": [
    {
     "data": {
      "text/plain": [
       "1.184290528216591"
      ]
     },
     "execution_count": 19,
     "metadata": {},
     "output_type": "execute_result"
    }
   ],
   "source": [
    "#Try removing some of the features and see if the RMSE improves.\n",
    "\n",
    "#this is the best RMSE\n",
    "\n",
    "feature_cols = ['cool','useful','funny']\n",
    "X = df[feature_cols]\n",
    "train_test_rmse(X, y)\n"
   ]
  },
  {
   "cell_type": "code",
   "execution_count": 35,
   "metadata": {
    "collapsed": false
   },
   "outputs": [
    {
     "name": "stdout",
     "output_type": "stream",
     "text": [
      "business_id\n",
      "9yKzy9PApeiPPOUJEtnvkg     7\n",
      "ZRJwVLyzEJq1VAihDhYiow     0\n",
      "6oRAC4uyJCsJl1X0WZpVSA     1\n",
      "_1QQZuf4zZOyFCvXc0o6Vg     3\n",
      "6ozycU1RpktNG2-1BroVtw     0\n",
      "-yxfBYGB6SEqszmxJxd97A     7\n",
      "zp713qNhx8d9KCJJnrw1xA    14\n",
      "hW0Ne_HTHEAgGF1rAdmR-g     1\n",
      "wNUea3IXZWD63bbOQaOH-g     0\n",
      "nMHhuYan8e3cONo3PornJA     1\n",
      "AsSCv0q_BWqIe3mX2JqsOQ     4\n",
      "e9nN4XxjdHj4qtKCOPq_vg     2\n",
      "h53YuCiIDfEFSJCQpk8v1g     3\n",
      "WGNIYMeXPyoWav1APUq7jA     3\n",
      "yc5AH9H71xJidA_J2mChLA     2\n",
      "Vb9FPCEL6Ly24PNxLBaAFw     2\n",
      "supigcPNO9IKo6olaTNV-g     7\n",
      "O510Re68mOy9dU490JTKCg     0\n",
      "b5cEoKR8iQliq-yT2_O0LQ    11\n",
      "4JzzbSbK9wmlOBJZWYfuCg     2\n",
      "8FNO4D3eozpIjj0k3q5Zbg     6\n",
      "tdcjXyFLMKAsvRhURNOkCg     2\n",
      "eFA9dqXT5EA_TrMgbo03QQ     0\n",
      "IJ0o6b8bJFAbG6MjGfBebQ     1\n",
      "JhupPnWfNlMJivnWB5druA     1\n",
      "wzP2yNpV5p04nh0injjymA     0\n",
      "qjmCVYkwP-HDa35jwYucbQ     0\n",
      "wct7rZKyZqZftzmAU-vhWQ     6\n",
      "vz2zQQSjy-NnnKLZzjjoxA     2\n",
      "i213sY5rhkfCO8cD-FPr1A     1\n",
      "                          ..\n",
      "R6aazv8FB-6BeanY3ag8kw     0\n",
      "JOZqBKIOB8WEBAWm7v1JFA     3\n",
      "OllL0G9Kh_k1lx-2vrFDXQ     0\n",
      "XHr5mXFgobOHoxbPJxmYdg     0\n",
      "cdacUBBL2tDbDnB1EfhpQw     0\n",
      "EWMwV5V9BxNs_U6nNVMeqw     2\n",
      "iDYzGVIF1TDWdjHNgNjCVw     0\n",
      "iDYzGVIF1TDWdjHNgNjCVw     9\n",
      "9Y3aQAVITkEJYe5vLZr13w     1\n",
      "GV1P1x9eRb4iZHCxj5_IjA     4\n",
      "GHYOl_cnERMOhkCK_mGAlA    12\n",
      "AX8lx9wHNYT45lyd7pxaYw    19\n",
      "KV-yJLmlODfUG1Mkds6kYw     0\n",
      "24V8QQWO6VaVggHdxjQQ_A     5\n",
      "wepFVY82q_tuDzG6lQjHWw     1\n",
      "EMGkbiCMfMTflQux-_JY7Q     0\n",
      "oCA2OZcd_Jo_ggVmUx3WVw     0\n",
      "r-a-Cn9hxdEnYTtVTB5bMQ     0\n",
      "xY1sPHTA2RGVFlh5tZhs9g     2\n",
      "mQUC-ATrFuMQSaDQb93Pug     1\n",
      "R8VwdLyvsp9iybNqRvm94g     2\n",
      "WJ5mq4EiWYAA4Vif0xDfdg     2\n",
      "f96lWMIAUhYIYy9gOktivQ     5\n",
      "maB4VHseFUY2TmPtAQnB9Q     2\n",
      "L3BSpFvxcNf3T_teitgt6A     3\n",
      "VY_tvNUCCXGXQeSvJl757Q     3\n",
      "EKzMHI1tip8rC1-ZAy64yg     0\n",
      "53YGfwmbW73JhFiemNeyzQ     0\n",
      "9SKdOoDHcFoxK5ZtsgHJoA     0\n",
      "pF7uRzygyZsltbmVpjIyvw     0\n",
      "dtype: int64\n"
     ]
    }
   ],
   "source": [
    "\n",
    "##Bonus: \n",
    "\n",
    "#Think of some new features you could create from the existing data that might\n",
    "#be predictive of the response. (This is called \"feature engineering\".) \n",
    "#Figure out how to create those features in Pandas, add them to your model, and see if the RMSE improves.\n",
    "\n",
    "\n",
    "# create a feature and  it cu for COOL & Funny \n",
    "\n",
    "c = df['cool']\n",
    "u = df ['useful']\n",
    "cu = c+u\n",
    "\n",
    "\n",
    "\n",
    "X = df[feature_cols],\n",
    "train_test_rmse(X, y)\n",
    "\n",
    "\n",
    "\n",
    "\n"
   ]
  },
  {
   "cell_type": "code",
   "execution_count": null,
   "metadata": {
    "collapsed": true
   },
   "outputs": [],
   "source": [
    "#**Bonus:** Compare your best RMSE on testing set with \n",
    "#the RMSE for the \"null model\", which is the model that ignores \n",
    "#all features and simply predicts the mean rating in the training set for all observations in the testing set.\n",
    "\n"
   ]
  },
  {
   "cell_type": "code",
   "execution_count": null,
   "metadata": {
    "collapsed": true
   },
   "outputs": [],
   "source": [
    "#**Bonus:** Instead of treating this as a regression problem, \n",
    "# treat it as a classification problem and see what testing accuracy you can achieve with KNN.\n",
    "    \n",
    "    \n",
    "    "
   ]
  }
 ],
 "metadata": {
  "kernelspec": {
   "display_name": "Python 2",
   "language": "python",
   "name": "python2"
  },
  "language_info": {
   "codemirror_mode": {
    "name": "ipython",
    "version": 2
   },
   "file_extension": ".py",
   "mimetype": "text/x-python",
   "name": "python",
   "nbconvert_exporter": "python",
   "pygments_lexer": "ipython2",
   "version": "2.7.11"
  }
 },
 "nbformat": 4,
 "nbformat_minor": 0
}
